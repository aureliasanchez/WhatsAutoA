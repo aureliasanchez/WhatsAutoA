{
 "cells": [
  {
   "cell_type": "code",
   "execution_count": null,
   "metadata": {},
   "outputs": [],
   "source": [
    "import pandas as pd\n",
    "# Read and store content of an excel file\n",
    "read_file = pd.read_excel (\"Prioridad_Marketing_Digital_Ordenado.xlsx\")\n",
    "# Write the dataframe object\n",
    "# into csv file\n",
    "read_file.to_csv('prioridad.csv', encoding='utf-8', index=False)\n",
    "# read csv file and convert\n",
    "# into a dataframe object\n",
    "df_t = pd.DataFrame(pd.read_csv(\"prioridad.csv\"))  "
   ]
  },
  {
   "cell_type": "code",
   "execution_count": null,
   "metadata": {},
   "outputs": [],
   "source": [
    "# Definir los valores específicos para buscar la fila correspondiente\n",
    "valores_especificos = {\n",
    "    'id': 1569385,\n",
    "    'clee':'13048611111000653000000000U6',\n",
    "    'nom_estab': 'INSTITUTO MOISÉS SÁENZ GARZA',\n",
    "    'codigo_act': 611111,    \n",
    "}\n",
    "\n",
    "# Construir la condición para encontrar el índice de la fila específica\n",
    "condicion = (\n",
    "    (df_t['id'] == valores_especificos['id']) &\n",
    "    (df_t['nom_estab'] == valores_especificos['nom_estab']) &\n",
    "    (df_t['codigo_act'] == valores_especificos['codigo_act']) &  \n",
    "    (df_t['clee']==valores_especificos['clee'])  \n",
    ")\n",
    "\n",
    "# Encontrar el índice de la fila que cumple con la condición\n",
    "index_row = df_t.index[condicion].tolist()\n",
    "\n",
    "# Verificar si se encontró el índice y seleccionar desde esa fila en adelante\n",
    "if index_row:\n",
    "    start_index = index_row[0]\n",
    "    filtered_df = df_t.iloc[start_index:]\n",
    "    \n",
    "    # Opcional: Guardar el DataFrame filtrado en un nuevo archivo CSV\n",
    "    #filtered_df.to_csv('ruta/al/archivo_filtrado.csv', index=False)\n",
    "    \n",
    "    # Mostrar los primeros 50 registros del DataFrame filtrado como verificación\n",
    "    #print(filtered_df.head(50))\n",
    "else:\n",
    "    print(\"No se encontró un registro que coincida con los valores especificados\")"
   ]
  }
 ],
 "metadata": {
  "language_info": {
   "name": "python"
  }
 },
 "nbformat": 4,
 "nbformat_minor": 2
}
