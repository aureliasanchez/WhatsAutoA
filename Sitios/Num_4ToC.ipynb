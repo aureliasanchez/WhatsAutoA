{
 "cells": [
  {
   "cell_type": "code",
   "execution_count": null,
   "metadata": {},
   "outputs": [],
   "source": [
    "import pandas as pd\n",
    "# Read and store content of an excel file\n",
    "read_file = pd.read_excel (\"D:/yoe11/Documents/TESEO/Mensajes/Prioridad_Marketing_Digital_Ordenado.xlsx\")\n",
    "# Write the dataframe object\n",
    "# into csv file\n",
    "read_file.to_csv('prioridad.csv', encoding='utf-8', index=False)\n",
    "# read csv file and convert\n",
    "# into a dataframe object\n",
    "df_t = pd.DataFrame(pd.read_csv(\"prioridad.csv\"))  "
   ]
  }
 ],
 "metadata": {
  "language_info": {
   "name": "python"
  }
 },
 "nbformat": 4,
 "nbformat_minor": 2
}
