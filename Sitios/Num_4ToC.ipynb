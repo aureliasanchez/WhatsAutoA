{
 "cells": [
  {
   "cell_type": "markdown",
   "metadata": {},
   "source": [
    "# **Selección de datos**\n",
    "## Base de 4To Creativo"
   ]
  },
  {
   "cell_type": "code",
   "execution_count": 2,
   "metadata": {},
   "outputs": [],
   "source": [
    "import pandas as pd\n",
    "# Read and store content of an excel file\n",
    "read_file = pd.read_excel (\"Prioridad_Marketing_Digital_Ordenado.xlsx\")\n",
    "# Write the dataframe object\n",
    "# into csv file\n",
    "read_file.to_csv('prioridad.csv', encoding='utf-8', index=False)\n",
    "# read csv file and convert\n",
    "# into a dataframe object\n",
    "df_t = pd.DataFrame(pd.read_csv(\"prioridad.csv\"))  "
   ]
  },
  {
   "cell_type": "markdown",
   "metadata": {},
   "source": [
    "### Buscar registro marcado"
   ]
  },
  {
   "cell_type": "code",
   "execution_count": 3,
   "metadata": {},
   "outputs": [],
   "source": [
    "# Definir los valores específicos para buscar la fila correspondiente\n",
    "valores_especificos = {\n",
    "    'id': 1569385,\n",
    "    'clee':'13048611111000653000000000U6',\n",
    "    'nom_estab': 'INSTITUTO MOISÉS SÁENZ GARZA',\n",
    "    'codigo_act': 611111,    \n",
    "}\n",
    "\n",
    "# Construir la condición para encontrar el índice de la fila específica\n",
    "condicion = (\n",
    "    (df_t['id'] == valores_especificos['id']) &\n",
    "    (df_t['nom_estab'] == valores_especificos['nom_estab']) &\n",
    "    (df_t['codigo_act'] == valores_especificos['codigo_act']) &  \n",
    "    (df_t['clee']==valores_especificos['clee'])  \n",
    ")\n",
    "\n",
    "# Encontrar el índice de la fila que cumple con la condición\n",
    "index_row = df_t.index[condicion].tolist()\n",
    "\n",
    "# Verificar si se encontró el índice y seleccionar desde esa fila en adelante\n",
    "if index_row:\n",
    "    start_index = index_row[0]\n",
    "    filtered_df = df_t.iloc[start_index:]         \n",
    "    # Mostrar los primeros 50 registros del DataFrame filtrado como verificación\n",
    "    #print(filtered_df.head(50))\n",
    "else:\n",
    "    print(\"No se encontró un registro que coincida con los valores especificados\")"
   ]
  },
  {
   "cell_type": "markdown",
   "metadata": {},
   "source": [
    "### Filtrar registros que si tegan un número"
   ]
  },
  {
   "cell_type": "code",
   "execution_count": 4,
   "metadata": {},
   "outputs": [],
   "source": [
    "# Filtrar los registros donde la columna 'telefono' no sea NaN\n",
    "filtered_df = filtered_df.dropna(subset=['telefono'])"
   ]
  },
  {
   "cell_type": "code",
   "execution_count": 5,
   "metadata": {},
   "outputs": [],
   "source": [
    "filtered_df.to_excel('4to_Numeros.xlsx', index=False)    "
   ]
  },
  {
   "cell_type": "code",
   "execution_count": null,
   "metadata": {},
   "outputs": [],
   "source": []
  }
 ],
 "metadata": {
  "kernelspec": {
   "display_name": "base",
   "language": "python",
   "name": "python3"
  },
  "language_info": {
   "codemirror_mode": {
    "name": "ipython",
    "version": 3
   },
   "file_extension": ".py",
   "mimetype": "text/x-python",
   "name": "python",
   "nbconvert_exporter": "python",
   "pygments_lexer": "ipython3",
   "version": "3.9.13"
  }
 },
 "nbformat": 4,
 "nbformat_minor": 2
}
