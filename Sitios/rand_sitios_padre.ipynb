{
 "cells": [
  {
   "cell_type": "markdown",
   "metadata": {},
   "source": [
    "# **ASIGNAR MENSAJES DE MANERA ALEATORIA**"
   ]
  },
  {
   "cell_type": "code",
   "execution_count": 1,
   "metadata": {},
   "outputs": [],
   "source": [
    "import pandas as pd\n",
    "import random"
   ]
  },
  {
   "cell_type": "markdown",
   "metadata": {},
   "source": [
    "### Lista de números y mensajes"
   ]
  },
  {
   "cell_type": "code",
   "execution_count": null,
   "metadata": {},
   "outputs": [],
   "source": [
    "# Datos proporcionados\n",
    "# 14/06\n",
    "numeros = [\n",
    "    \"7712958892\", \"7711893563\", \"5546170355\", \"7716832262\", \"7711299712\", \"7715661356\", \"3318400745\", \"7716840383\", \"7715665781\", \"7717740545\", \"4444110504\", \"7711327205\", \"7711300370\", \"7717105340\", \"7711343814\", \"7711200819\", \"5548397099\", \"7711636383\", \"7717133389\", \"7711091796\", \"7715696006\", \"5568852665\", \"71720002321\", \"5548397099\", \"7711046556\", \"7712197645\", \"7712195749\", \"7711443147\", \"7713829882\", \"7711632080\", \"7711164687\", \"7717120231\", \"7712178854\", \"7717014006\", \"7711549822\", \"7712343199\", \"7711437977\", \"7711121502\", \"7711316514\", \"7711048629\", \"7712097593\", \"7711617541\", \"7711022429\", \"7711859337\", \"7711872425\", \"7712332922\", \"7711073646\"\n",
    "]\n",
    "\n",
    "# 15 / 06\n",
    "#numeros = [\n",
    " #   \"7711320919\", \"7712135315\", \"7711220200\", \"7717471528\", \"7711493275\", \"7712074753\", \"7711298537\", \"7711125849\", \"7711593540\", \"7711172863\", \"7711999560\", \"7711997855\", \"7711856629\", \"7711802023\", \"7711277206\", \"7711837957\", \"7712207173\", \"7712023326\", \"7711755900\", \"7712058005\", \"7711505087\", \"7712606280\", \"7712197998\", \"7712902785\", \"7717264091\", \"7717097120\", \"7717944306\", \"7712461361\", \"7711003199\", \"5553513905\", \"7712058187\", \"7711121502\", \"7712023127\", \"7711278549\", \"7711027852\", \"7711762936\", \"7717951435\", \"7712081099\", \"7711754033\", \"7711744558\", \"7711951606\", \"7711071830\", \"7712051797\", \"7712453988\", \"7711024883\", \"7712740634\", \"7713971903\", \"7711740612\"\n",
    "#]\n",
    "\n",
    "# Mensajes con rutas de imágenes\n",
    "mensajes = [\n",
    "    {\n",
    "        \"mensaje\": \"\"\"⏳ ¡El Día del Padre está a la vuelta de la esquina! Aprovecha nuestra promoción especial y haz que este día sea verdaderamente memorable para papá. ¡Corre a tu Villanova más cercano y encuentra un dulce regalo para él! 🎁👨‍👧‍👦\\nConsulta nuestra página web para conocer todas nuestras sucursales: https://villanova.com.mx/sucursales/\"\"\",\n",
    "        \"imagen\": r\"C:\\Users\\Administrator\\Desktop\\WhatsAutoA\\Images\\A.png\"\n",
    "    },\n",
    "    {\n",
    "        \"mensaje\": \"\"\"📢Le presento la Privada *★Arboledas, Modelo Compostela★*\\n _Tulancingo, Hidalgo  a 5 Minutos de Walmart_\\n\\n🎯 INFORMACION GENERAL :\\n- 🟩 Terreno: 105 m²\\n- 🏡 Construcción: 114 m²\\n- 🛏️Habitaciones: 3 (2 en planta alta, con vestidor)\\n- 🚽Baños: 2\\n- 🚗Estacionamiento: 2\\n- 📺 Sala\\n- 🪑Comedor\\n- 🌿Jardín\\n\\n⛳Amenidades:\\n- 🌲Área Verde\\n- 🥩Asador\\n- 🛝Juegos Infantiles\\n- 📍Céntrico: Valle Sol, 43648 Tulancingo, Hgo.\\n\\n💰Información Hipotecaria & crediticia:\\n*$1,695,000 MXN*\\n1. Pago Promedio mensual: $17,731.23 MXN\\n2. Ingreso mayor a los $47,094.01 MXN mensuales comprobables por pareja\\n\\n💡 ¿Le interesa obtener más información de esta propiedad?\"\"\",\n",
    "        \"imagen\": r\"C:\\Users\\Administrator\\Desktop\\WhatsAutoA\\Images\\B.png\"\n",
    "    },\n",
    "    #{\n",
    "      #  \"mensaje\": \"\"\"📢Le presento la Privada *★Olivo, Modelo Lugo★*\\n _Tulancingo, Hidalgo a 5 Minutos de Walmart_\\n\\n🎯INFORMACION GENERAL:\\n- 🟩Terreno: 119m²\\n- 🏡 Construcción: 152 m²\\n- 🛏️Habitaciones: 4 (Recámara principal con walk in closet)\\n- 🚽Baños: 3 + 1/2\\n- 🚗Estacionamiento: 2\\n- 📺 Sala\\n- 🪑Comedor\\n- 🌿Jardín\\n\\n⛳Amenidades:\\n- 🌲Área verde\\n- 🥩Asador\\n- 🛝Juegos Infantiles\\n- 📍Céntrico: Valle Sol, 43648 Tulancingo, Hgo.\\n\\n💰Información Hipotecaria & crediticia:\\nPrecio *$2,400,000 MXN*\\n1. Pago promedio mensual $24,317.26 MXN\\n2. Ingreso mayor a los $59,000.00 MXN mensuales comprobables por pareja\\n\\n💡¿Le interesa obtener más información de esta propiedad?\"\"\",\n",
    "     #   \"imagen\": r\"C:\\Users\\4to Creativo\\OneDrive\\Desktop\\WhatsAutoA\\Images\\olivo.png\"\n",
    "    #}\n",
    "]"
   ]
  },
  {
   "cell_type": "markdown",
   "metadata": {},
   "source": [
    "### Asignación random"
   ]
  },
  {
   "cell_type": "code",
   "execution_count": 3,
   "metadata": {},
   "outputs": [
    {
     "data": {
      "text/html": [
       "<div>\n",
       "<style scoped>\n",
       "    .dataframe tbody tr th:only-of-type {\n",
       "        vertical-align: middle;\n",
       "    }\n",
       "\n",
       "    .dataframe tbody tr th {\n",
       "        vertical-align: top;\n",
       "    }\n",
       "\n",
       "    .dataframe thead th {\n",
       "        text-align: right;\n",
       "    }\n",
       "</style>\n",
       "<table border=\"1\" class=\"dataframe\">\n",
       "  <thead>\n",
       "    <tr style=\"text-align: right;\">\n",
       "      <th></th>\n",
       "      <th>Movil</th>\n",
       "      <th>Mensaje</th>\n",
       "      <th>Imagen</th>\n",
       "    </tr>\n",
       "  </thead>\n",
       "  <tbody>\n",
       "    <tr>\n",
       "      <th>0</th>\n",
       "      <td>52_7751238526</td>\n",
       "      <td>⏳ ¡El Día del Padre está a la vuelta de la esq...</td>\n",
       "      <td>C:\\Users\\Administrator\\Desktop\\WhatsAutoA\\Imag...</td>\n",
       "    </tr>\n",
       "    <tr>\n",
       "      <th>1</th>\n",
       "      <td>52_7751802047</td>\n",
       "      <td>⏳ ¡El Día del Padre está a la vuelta de la esq...</td>\n",
       "      <td>C:\\Users\\Administrator\\Desktop\\WhatsAutoA\\Imag...</td>\n",
       "    </tr>\n",
       "    <tr>\n",
       "      <th>2</th>\n",
       "      <td>52_7752604971</td>\n",
       "      <td>⏳ ¡El Día del Padre está a la vuelta de la esq...</td>\n",
       "      <td>C:\\Users\\Administrator\\Desktop\\WhatsAutoA\\Imag...</td>\n",
       "    </tr>\n",
       "    <tr>\n",
       "      <th>3</th>\n",
       "      <td>52_7751537772</td>\n",
       "      <td>⏳ ¡El Día del Padre está a la vuelta de la esq...</td>\n",
       "      <td>C:\\Users\\Administrator\\Desktop\\WhatsAutoA\\Imag...</td>\n",
       "    </tr>\n",
       "    <tr>\n",
       "      <th>4</th>\n",
       "      <td>52_7751107264</td>\n",
       "      <td>⏳ ¡El Día del Padre está a la vuelta de la esq...</td>\n",
       "      <td>C:\\Users\\Administrator\\Desktop\\WhatsAutoA\\Imag...</td>\n",
       "    </tr>\n",
       "    <tr>\n",
       "      <th>...</th>\n",
       "      <td>...</td>\n",
       "      <td>...</td>\n",
       "      <td>...</td>\n",
       "    </tr>\n",
       "    <tr>\n",
       "      <th>70</th>\n",
       "      <td>52_7751216614</td>\n",
       "      <td>⏳ ¡El Día del Padre está a la vuelta de la esq...</td>\n",
       "      <td>C:\\Users\\Administrator\\Desktop\\WhatsAutoA\\Imag...</td>\n",
       "    </tr>\n",
       "    <tr>\n",
       "      <th>71</th>\n",
       "      <td>52_7751216752</td>\n",
       "      <td>⏳ ¡El Día del Padre está a la vuelta de la esq...</td>\n",
       "      <td>C:\\Users\\Administrator\\Desktop\\WhatsAutoA\\Imag...</td>\n",
       "    </tr>\n",
       "    <tr>\n",
       "      <th>72</th>\n",
       "      <td>52_7751221104</td>\n",
       "      <td>⏳ ¡El Día del Padre está a la vuelta de la esq...</td>\n",
       "      <td>C:\\Users\\Administrator\\Desktop\\WhatsAutoA\\Imag...</td>\n",
       "    </tr>\n",
       "    <tr>\n",
       "      <th>73</th>\n",
       "      <td>52_7751234452</td>\n",
       "      <td>⏳ ¡El Día del Padre está a la vuelta de la esq...</td>\n",
       "      <td>C:\\Users\\Administrator\\Desktop\\WhatsAutoA\\Imag...</td>\n",
       "    </tr>\n",
       "    <tr>\n",
       "      <th>74</th>\n",
       "      <td>52_7751235490</td>\n",
       "      <td>⏳ ¡El Día del Padre está a la vuelta de la esq...</td>\n",
       "      <td>C:\\Users\\Administrator\\Desktop\\WhatsAutoA\\Imag...</td>\n",
       "    </tr>\n",
       "  </tbody>\n",
       "</table>\n",
       "<p>75 rows × 3 columns</p>\n",
       "</div>"
      ],
      "text/plain": [
       "            Movil                                            Mensaje  \\\n",
       "0   52_7751238526  ⏳ ¡El Día del Padre está a la vuelta de la esq...   \n",
       "1   52_7751802047  ⏳ ¡El Día del Padre está a la vuelta de la esq...   \n",
       "2   52_7752604971  ⏳ ¡El Día del Padre está a la vuelta de la esq...   \n",
       "3   52_7751537772  ⏳ ¡El Día del Padre está a la vuelta de la esq...   \n",
       "4   52_7751107264  ⏳ ¡El Día del Padre está a la vuelta de la esq...   \n",
       "..            ...                                                ...   \n",
       "70  52_7751216614  ⏳ ¡El Día del Padre está a la vuelta de la esq...   \n",
       "71  52_7751216752  ⏳ ¡El Día del Padre está a la vuelta de la esq...   \n",
       "72  52_7751221104  ⏳ ¡El Día del Padre está a la vuelta de la esq...   \n",
       "73  52_7751234452  ⏳ ¡El Día del Padre está a la vuelta de la esq...   \n",
       "74  52_7751235490  ⏳ ¡El Día del Padre está a la vuelta de la esq...   \n",
       "\n",
       "                                               Imagen  \n",
       "0   C:\\Users\\Administrator\\Desktop\\WhatsAutoA\\Imag...  \n",
       "1   C:\\Users\\Administrator\\Desktop\\WhatsAutoA\\Imag...  \n",
       "2   C:\\Users\\Administrator\\Desktop\\WhatsAutoA\\Imag...  \n",
       "3   C:\\Users\\Administrator\\Desktop\\WhatsAutoA\\Imag...  \n",
       "4   C:\\Users\\Administrator\\Desktop\\WhatsAutoA\\Imag...  \n",
       "..                                                ...  \n",
       "70  C:\\Users\\Administrator\\Desktop\\WhatsAutoA\\Imag...  \n",
       "71  C:\\Users\\Administrator\\Desktop\\WhatsAutoA\\Imag...  \n",
       "72  C:\\Users\\Administrator\\Desktop\\WhatsAutoA\\Imag...  \n",
       "73  C:\\Users\\Administrator\\Desktop\\WhatsAutoA\\Imag...  \n",
       "74  C:\\Users\\Administrator\\Desktop\\WhatsAutoA\\Imag...  \n",
       "\n",
       "[75 rows x 3 columns]"
      ]
     },
     "execution_count": 3,
     "metadata": {},
     "output_type": "execute_result"
    }
   ],
   "source": [
    "# Asignar un mensaje aleatorio a cada número\n",
    "asignaciones = []\n",
    "random.seed(42)  # Para reproducibilidad\n",
    "\n",
    "for numero in numeros:\n",
    "    asignacion = random.choice(mensajes)\n",
    "    asignaciones.append({\n",
    "        \"Movil\": numero,\n",
    "        \"Mensaje\": asignacion[\"mensaje\"].replace(\"\\n\", \"\\n\"),\n",
    "        \"Imagen\": asignacion[\"imagen\"]\n",
    "    })\n",
    "\n",
    "# Convertir a DataFrame de pandas\n",
    "df = pd.DataFrame(asignaciones)\n",
    "df"
   ]
  },
  {
   "cell_type": "markdown",
   "metadata": {},
   "source": [
    "### Exportar"
   ]
  },
  {
   "cell_type": "code",
   "execution_count": 4,
   "metadata": {},
   "outputs": [],
   "source": [
    "# Exportar a un archivo Excel\n",
    "df.to_excel(\"listaContactos.xlsx\", index=False)"
   ]
  }
 ],
 "metadata": {
  "kernelspec": {
   "display_name": "base",
   "language": "python",
   "name": "python3"
  },
  "language_info": {
   "codemirror_mode": {
    "name": "ipython",
    "version": 3
   },
   "file_extension": ".py",
   "mimetype": "text/x-python",
   "name": "python",
   "nbconvert_exporter": "python",
   "pygments_lexer": "ipython3",
   "version": "3.9.13"
  }
 },
 "nbformat": 4,
 "nbformat_minor": 2
}
