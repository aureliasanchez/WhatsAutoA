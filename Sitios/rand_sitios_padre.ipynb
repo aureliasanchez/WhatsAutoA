{
 "cells": [
  {
   "cell_type": "markdown",
   "metadata": {},
   "source": [
    "# **ASIGNAR MENSAJES DE MANERA ALEATORIA**"
   ]
  },
  {
   "cell_type": "code",
   "execution_count": 4,
   "metadata": {},
   "outputs": [],
   "source": [
    "import pandas as pd\n",
    "import random"
   ]
  },
  {
   "cell_type": "markdown",
   "metadata": {},
   "source": [
    "### Lista de números y mensajes"
   ]
  },
  {
   "cell_type": "code",
   "execution_count": 5,
   "metadata": {},
   "outputs": [],
   "source": [
    "# Datos proporcionados\n",
    "# 14/06\n",
    "numeros = [\n",
    "\"7711276559\", \"7713976304\", \"7712341335\", \"7712066354\", \"7711927247\", \"7711181766\", \"7711001034\", \"7717471797\", \"7712667033\", \"7711604307\", \"7711987953\", \"7712214288\", \"7711072794\", \"5539181341\", \"7711854204\", \"7711313225\", \"7713021136\", \"7711301465\", \"7712434024\", \"7712058567\", \"7716992349\", \"7711328389\", \"7711277803\", \"7711111329\", \"7711396465\"\n",
<<<<<<< HEAD
    "\n",
=======
>>>>>>> 56d076d481a7b1cfd8b1636d45357dabc63db72a
    "]\n",
    "\n",
    "# 15 / 06\n",
    "#numeros = [\n",
    " #   \"7711320919\", \"7712135315\", \"7711220200\", \"7717471528\", \"7711493275\", \"7712074753\", \"7711298537\", \"7711125849\", \"7711593540\", \"7711172863\", \"7711999560\", \"7711997855\", \"7711856629\", \"7711802023\", \"7711277206\", \"7711837957\", \"7712207173\", \"7712023326\", \"7711755900\", \"7712058005\", \"7711505087\", \"7712606280\", \"7712197998\", \"7712902785\", \"7717264091\", \"7717097120\", \"7717944306\", \"7712461361\", \"7711003199\", \"5553513905\", \"7712058187\", \"7711121502\", \"7712023127\", \"7711278549\", \"7711027852\", \"7711762936\", \"7717951435\", \"7712081099\", \"7711754033\", \"7711744558\", \"7711951606\", \"7711071830\", \"7712051797\", \"7712453988\", \"7711024883\", \"7712740634\", \"7713971903\", \"7711740612\"\n",
    "#]\n",
    "\n",
    "# Mensajes con rutas de imágenes\n",
    "mensajes = [\n",
    "    {\n",
    "        \"mensaje\": \"⏳ No pierdas más clientes. Contáctanos ahora y asegura tu lugar. ¡Es tu momento de destacar en internet! 🌟 📩 \\nEscríbenos ya para obtener esta oferta exclusiva. ¡No esperes más! 😊\",\n",
    "        \"imagen\": r\"C:\\Users\\4to CREATIVO\\Desktop\\WhatsAutoA\\Images\\A.jpeg\"\n",
    "    },\n",
    "    {\n",
    "        \"mensaje\": \"¡Hola! 👋🏼 ¿Estás listo para llevar tu negocio al siguiente nivel? 🌐✨ 🚀 \\nTransforma tu presencia en línea y atrapa a esos clientes que están buscando lo que ofreces. ¡Imagina un sitio web profesional y atractivo que convierta visitantes en compradores fieles! 🛍️🔥 \\n¿Listo para comenzar? Responde a este mensaje y uno de nuestros expertos te guiará en el proceso. ¡Es tu momento de brillar en internet! 🌐🌟\",\n",
    "        \"imagen\": r\"C:\\Users\\4to CREATIVO\\Desktop\\WhatsAutoA\\Images\\B.jpeg\"\n",
    "    },\n",
    "    #{\n",
    "      #  \"mensaje\": \"\"\"📢Le presento la Privada *★Olivo, Modelo Lugo★*\\n _Tulancingo, Hidalgo a 5 Minutos de Walmart_\\n\\n🎯INFORMACION GENERAL:\\n- 🟩Terreno: 119m²\\n- 🏡 Construcción: 152 m²\\n- 🛏️Habitaciones: 4 (Recámara principal con walk in closet)\\n- 🚽Baños: 3 + 1/2\\n- 🚗Estacionamiento: 2\\n- 📺 Sala\\n- 🪑Comedor\\n- 🌿Jardín\\n\\n⛳Amenidades:\\n- 🌲Área verde\\n- 🥩Asador\\n- 🛝Juegos Infantiles\\n- 📍Céntrico: Valle Sol, 43648 Tulancingo, Hgo.\\n\\n💰Información Hipotecaria & crediticia:\\nPrecio *$2,400,000 MXN*\\n1. Pago promedio mensual $24,317.26 MXN\\n2. Ingreso mayor a los $59,000.00 MXN mensuales comprobables por pareja\\n\\n💡¿Le interesa obtener más información de esta propiedad?\"\"\",\n",
    "     #   \"imagen\": r\"C:\\Users\\4to Creativo\\OneDrive\\Desktop\\WhatsAutoA\\Images\\olivo.png\"\n",
    "    #}\n",
    "]"
   ]
  },
  {
   "cell_type": "markdown",
   "metadata": {},
   "source": [
    "### Asignación random"
   ]
  },
  {
   "cell_type": "code",
   "execution_count": 6,
   "metadata": {},
   "outputs": [
    {
     "data": {
      "text/html": [
       "<div>\n",
       "<style scoped>\n",
       "    .dataframe tbody tr th:only-of-type {\n",
       "        vertical-align: middle;\n",
       "    }\n",
       "\n",
       "    .dataframe tbody tr th {\n",
       "        vertical-align: top;\n",
       "    }\n",
       "\n",
       "    .dataframe thead th {\n",
       "        text-align: right;\n",
       "    }\n",
       "</style>\n",
       "<table border=\"1\" class=\"dataframe\">\n",
       "  <thead>\n",
       "    <tr style=\"text-align: right;\">\n",
       "      <th></th>\n",
       "      <th>Movil</th>\n",
       "      <th>Mensaje</th>\n",
       "      <th>Imagen</th>\n",
       "    </tr>\n",
       "  </thead>\n",
       "  <tbody>\n",
       "    <tr>\n",
       "      <th>0</th>\n",
       "      <td>52_7711951606</td>\n",
       "      <td>⏳ No pierdas más clientes. Contáctanos ahora y...</td>\n",
       "      <td>C:\\Users\\4to CREATIVO\\Desktop\\WhatsAutoA\\Image...</td>\n",
       "    </tr>\n",
       "    <tr>\n",
       "      <th>1</th>\n",
       "      <td>52_7711071830</td>\n",
       "      <td>⏳ No pierdas más clientes. Contáctanos ahora y...</td>\n",
       "      <td>C:\\Users\\4to CREATIVO\\Desktop\\WhatsAutoA\\Image...</td>\n",
       "    </tr>\n",
       "    <tr>\n",
       "      <th>2</th>\n",
       "      <td>52_7712051797</td>\n",
       "      <td>¡Hola! 👋🏼 ¿Estás listo para llevar tu negocio ...</td>\n",
       "      <td>C:\\Users\\4to CREATIVO\\Desktop\\WhatsAutoA\\Image...</td>\n",
       "    </tr>\n",
       "    <tr>\n",
       "      <th>3</th>\n",
       "      <td>52_7712453988</td>\n",
       "      <td>⏳ No pierdas más clientes. Contáctanos ahora y...</td>\n",
       "      <td>C:\\Users\\4to CREATIVO\\Desktop\\WhatsAutoA\\Image...</td>\n",
       "    </tr>\n",
       "    <tr>\n",
       "      <th>4</th>\n",
       "      <td>52_7711024883</td>\n",
       "      <td>⏳ No pierdas más clientes. Contáctanos ahora y...</td>\n",
       "      <td>C:\\Users\\4to CREATIVO\\Desktop\\WhatsAutoA\\Image...</td>\n",
       "    </tr>\n",
       "    <tr>\n",
       "      <th>...</th>\n",
       "      <td>...</td>\n",
       "      <td>...</td>\n",
       "      <td>...</td>\n",
       "    </tr>\n",
       "    <tr>\n",
       "      <th>70</th>\n",
       "      <td>52_5585802499</td>\n",
       "      <td>⏳ No pierdas más clientes. Contáctanos ahora y...</td>\n",
       "      <td>C:\\Users\\4to CREATIVO\\Desktop\\WhatsAutoA\\Image...</td>\n",
       "    </tr>\n",
       "    <tr>\n",
       "      <th>71</th>\n",
       "      <td>52_7711116525</td>\n",
       "      <td>¡Hola! 👋🏼 ¿Estás listo para llevar tu negocio ...</td>\n",
       "      <td>C:\\Users\\4to CREATIVO\\Desktop\\WhatsAutoA\\Image...</td>\n",
       "    </tr>\n",
       "    <tr>\n",
       "      <th>72</th>\n",
       "      <td>52_7711364556</td>\n",
       "      <td>¡Hola! 👋🏼 ¿Estás listo para llevar tu negocio ...</td>\n",
       "      <td>C:\\Users\\4to CREATIVO\\Desktop\\WhatsAutoA\\Image...</td>\n",
       "    </tr>\n",
       "    <tr>\n",
       "      <th>73</th>\n",
       "      <td>52_7712421883</td>\n",
       "      <td>¡Hola! 👋🏼 ¿Estás listo para llevar tu negocio ...</td>\n",
       "      <td>C:\\Users\\4to CREATIVO\\Desktop\\WhatsAutoA\\Image...</td>\n",
       "    </tr>\n",
       "    <tr>\n",
       "      <th>74</th>\n",
       "      <td>52_7713533494</td>\n",
       "      <td>⏳ No pierdas más clientes. Contáctanos ahora y...</td>\n",
       "      <td>C:\\Users\\4to CREATIVO\\Desktop\\WhatsAutoA\\Image...</td>\n",
       "    </tr>\n",
       "  </tbody>\n",
       "</table>\n",
       "<p>75 rows × 3 columns</p>\n",
       "</div>"
      ],
      "text/plain": [
       "            Movil                                            Mensaje  \\\n",
       "0   52_7711951606  ⏳ No pierdas más clientes. Contáctanos ahora y...   \n",
       "1   52_7711071830  ⏳ No pierdas más clientes. Contáctanos ahora y...   \n",
       "2   52_7712051797  ¡Hola! 👋🏼 ¿Estás listo para llevar tu negocio ...   \n",
       "3   52_7712453988  ⏳ No pierdas más clientes. Contáctanos ahora y...   \n",
       "4   52_7711024883  ⏳ No pierdas más clientes. Contáctanos ahora y...   \n",
       "..            ...                                                ...   \n",
       "70  52_5585802499  ⏳ No pierdas más clientes. Contáctanos ahora y...   \n",
       "71  52_7711116525  ¡Hola! 👋🏼 ¿Estás listo para llevar tu negocio ...   \n",
       "72  52_7711364556  ¡Hola! 👋🏼 ¿Estás listo para llevar tu negocio ...   \n",
       "73  52_7712421883  ¡Hola! 👋🏼 ¿Estás listo para llevar tu negocio ...   \n",
       "74  52_7713533494  ⏳ No pierdas más clientes. Contáctanos ahora y...   \n",
       "\n",
       "                                               Imagen  \n",
       "0   C:\\Users\\4to CREATIVO\\Desktop\\WhatsAutoA\\Image...  \n",
       "1   C:\\Users\\4to CREATIVO\\Desktop\\WhatsAutoA\\Image...  \n",
       "2   C:\\Users\\4to CREATIVO\\Desktop\\WhatsAutoA\\Image...  \n",
       "3   C:\\Users\\4to CREATIVO\\Desktop\\WhatsAutoA\\Image...  \n",
       "4   C:\\Users\\4to CREATIVO\\Desktop\\WhatsAutoA\\Image...  \n",
       "..                                                ...  \n",
       "70  C:\\Users\\4to CREATIVO\\Desktop\\WhatsAutoA\\Image...  \n",
       "71  C:\\Users\\4to CREATIVO\\Desktop\\WhatsAutoA\\Image...  \n",
       "72  C:\\Users\\4to CREATIVO\\Desktop\\WhatsAutoA\\Image...  \n",
       "73  C:\\Users\\4to CREATIVO\\Desktop\\WhatsAutoA\\Image...  \n",
       "74  C:\\Users\\4to CREATIVO\\Desktop\\WhatsAutoA\\Image...  \n",
       "\n",
       "[75 rows x 3 columns]"
      ]
     },
     "execution_count": 6,
     "metadata": {},
     "output_type": "execute_result"
    }
   ],
   "source": [
    "# Asignar un mensaje aleatorio a cada número\n",
    "asignaciones = []\n",
    "random.seed(42)  # Para reproducibilidad\n",
    "\n",
    "for numero in numeros:\n",
    "    asignacion = random.choice(mensajes)\n",
    "    asignaciones.append({\n",
    "        \"Movil\": numero,\n",
    "        \"Mensaje\": asignacion[\"mensaje\"].replace(\"\\n\", \"\\n\"),\n",
    "        \"Imagen\": asignacion[\"imagen\"]\n",
    "    })\n",
    "\n",
    "# Convertir a DataFrame de pandas\n",
    "df = pd.DataFrame(asignaciones)\n",
    "df"
   ]
  },
  {
   "cell_type": "markdown",
   "metadata": {},
   "source": [
    "### Exportar"
   ]
  },
  {
   "cell_type": "code",
   "execution_count": 7,
   "metadata": {},
   "outputs": [],
   "source": [
    "# Exportar a un archivo Excel\n",
    "df.to_excel(\"listaContactos.xlsx\", index=False)"
   ]
  }
 ],
 "metadata": {
  "kernelspec": {
   "display_name": "base",
   "language": "python",
   "name": "python3"
  },
  "language_info": {
   "codemirror_mode": {
    "name": "ipython",
    "version": 3
   },
   "file_extension": ".py",
   "mimetype": "text/x-python",
   "name": "python",
   "nbconvert_exporter": "python",
   "pygments_lexer": "ipython3",
   "version": "3.12.3"
  }
 },
 "nbformat": 4,
 "nbformat_minor": 2
}
