{
 "cells": [
  {
   "cell_type": "markdown",
   "metadata": {},
   "source": [
    "# **ASIGNAR MENSAJES DE MANERA ALEATORIA**"
   ]
  },
  {
   "cell_type": "code",
   "execution_count": 7,
   "metadata": {},
   "outputs": [],
   "source": [
    "import pandas as pd\n",
    "import random"
   ]
  },
  {
   "cell_type": "markdown",
   "metadata": {},
   "source": [
    "### Lista de números y mensajes"
   ]
  },
  {
   "cell_type": "code",
   "execution_count": 8,
   "metadata": {},
   "outputs": [],
   "source": [
    "# Datos proporcionados\n",
    "numeros = [\n",
    "'7711324039','7711398801','7711401540','7711409079','7711409819','7711414182','7711430853','7711447372','7711506670','7711526575','7711569847','7711595972','7711607634','7711617030','7711618552','7711621022','7711725441','7711777711','7711787064','7711814419','7711842892','7711876950','7711882088','7711884343','7711919677','7711928923','7711958612','7711997787','7712001269','7712012648','7712020411','7712038270','7712130496','7712211085','7712389767','7712393938','7712421171','7712421868','7712426637','7712427810','7712603003','7712992038','7712992365','7713199851','7713199851','7713238900','7713316035','7713385962','7713453105','7713562916','7713568446','7713582485','7713640004','7713835323','7715689133','7715695068','7716838523','7716842347','7717026506','7717121607','7717220647','7717268248','7717487230','7717722549','7721242568','7711004564','7711011403','7711091183','7711146927','7711212735','7711234394','7711276504','7711283964','7711288664','7711297776'\n",
    "\n",
    "\n",
    "\n",
    "'7711004199','7711004270''7711004676','7711004871','7711006132','7711006853','7711007188','7711007321','7711007380','7711007670','7711007855','7711008577','7711009070','7711009103','7711009357','7711009563','7711009779','7711010002','7711011106','7711011190','7711012335','7711012769','7711013303','7711013672','7711015664','7711015979','7711020615','7711021106','7711021317','7711021343','7711021633','7711021880','7711022429','7711022541','7711023304','7711023418','7711023672','7711024199','7711024513','7711024750','7711025144','7711025465','7711025625','7711026460','7711026604','7711027697','7711027852','7711028287','7711028921','7711029143','7711030102','7711030324','7711030738','7711030805','7711031039','7711031254','7711032821','7711033391','7711033467','7711033766','7711033794','7711033923','7711034004','7711034160','7711034601','7711034815','7711034949','7711035479','7711037073','7711037305','7711037363','7711039309','7711039340','7711039837','7711040962','7711041094','7711041434','7711042529','7711044566','7711045484','7711046556','7711046790','7711046823','7711047011','7711047268','7711047499','7711047555','7711048261','7711048345','7711048492','7711048629','7711048778','7711048943','7711050224','7711050967','7711051883','7711051928','7711052225','7711052689','7711053356','7711053975','7711054451','7711054645','7711055362','7711055942','7711057851','7711059252','7711059262','7711059488','7711060383','7711062118','7711062698','7711065469','7711067906','7711069538','7711069589','7711069865','7711070843','7711071830','7711072315','7711073537','7711073973','7711074255','7711091796','7711092093','7711092364','7711092523','7711092608','7711092884','7711093211','7711093666','7711093956','7711094962','7711095774','7711096371','7711096386','7711098082','7711098151','7711098161','7711098412','7711099773','7711100106','7711101811','7711102449','7711103268','7711103288','7711103335','7711104897','7711105125','7711105699'\n",
    "]\n",
    "\n",
    "# Mensajes con rutas de imágenes\n",
    "mensajes = [\n",
    "    {\n",
    "        \"mensaje\": \"\"\"¡Hola! 🌟 Hoy es el gran día de nuestra inauguración en Mineral del Chico. 🍦✨ \\nTe esperamos de 6:00 pm a 9:00 pm para disfrutar de un delicioso helado. Ven a celebrar juntos. ¡No te lo pierdas! \\n\\n📍 Avenida Corona del Rosal, Local B, Gabriel Mancera y Morelos, Colonia Centro, C.P. 42120, Mineral del Chico, Hidalgo. \\n⏰ 6:00 pm - 9:00 pm\\n\\n¡Ven a vivir una tarde llena de sabor y magia! 🌈🍦\"\"\",\n",
    "        \"imagen\": r\"C:\\Users\\yoe11\\Downloads\\explosión.jpeg\"\n",
    "    }\n",
    "]"
   ]
  },
  {
   "cell_type": "markdown",
   "metadata": {},
   "source": [
    "### Asignación random"
   ]
  },
  {
   "cell_type": "code",
   "execution_count": 9,
   "metadata": {},
   "outputs": [
    {
     "data": {
      "text/html": [
       "<div>\n",
       "<style scoped>\n",
       "    .dataframe tbody tr th:only-of-type {\n",
       "        vertical-align: middle;\n",
       "    }\n",
       "\n",
       "    .dataframe tbody tr th {\n",
       "        vertical-align: top;\n",
       "    }\n",
       "\n",
       "    .dataframe thead th {\n",
       "        text-align: right;\n",
       "    }\n",
       "</style>\n",
       "<table border=\"1\" class=\"dataframe\">\n",
       "  <thead>\n",
       "    <tr style=\"text-align: right;\">\n",
       "      <th></th>\n",
       "      <th>Movil</th>\n",
       "      <th>Mensaje</th>\n",
       "      <th>Imagen</th>\n",
       "    </tr>\n",
       "  </thead>\n",
       "  <tbody>\n",
       "    <tr>\n",
       "      <th>0</th>\n",
       "      <td>7711324039</td>\n",
       "      <td>¡Hola! 🌟 Hoy es el gran día de nuestra inaugur...</td>\n",
       "      <td>C:\\Users\\yoe11\\Downloads\\explosión.jpeg</td>\n",
       "    </tr>\n",
       "    <tr>\n",
       "      <th>1</th>\n",
       "      <td>7711398801</td>\n",
       "      <td>¡Hola! 🌟 Hoy es el gran día de nuestra inaugur...</td>\n",
       "      <td>C:\\Users\\yoe11\\Downloads\\explosión.jpeg</td>\n",
       "    </tr>\n",
       "    <tr>\n",
       "      <th>2</th>\n",
       "      <td>7711401540</td>\n",
       "      <td>¡Hola! 🌟 Hoy es el gran día de nuestra inaugur...</td>\n",
       "      <td>C:\\Users\\yoe11\\Downloads\\explosión.jpeg</td>\n",
       "    </tr>\n",
       "    <tr>\n",
       "      <th>3</th>\n",
       "      <td>7711409079</td>\n",
       "      <td>¡Hola! 🌟 Hoy es el gran día de nuestra inaugur...</td>\n",
       "      <td>C:\\Users\\yoe11\\Downloads\\explosión.jpeg</td>\n",
       "    </tr>\n",
       "    <tr>\n",
       "      <th>4</th>\n",
       "      <td>7711409819</td>\n",
       "      <td>¡Hola! 🌟 Hoy es el gran día de nuestra inaugur...</td>\n",
       "      <td>C:\\Users\\yoe11\\Downloads\\explosión.jpeg</td>\n",
       "    </tr>\n",
       "    <tr>\n",
       "      <th>...</th>\n",
       "      <td>...</td>\n",
       "      <td>...</td>\n",
       "      <td>...</td>\n",
       "    </tr>\n",
       "    <tr>\n",
       "      <th>70</th>\n",
       "      <td>7711234394</td>\n",
       "      <td>¡Hola! 🌟 Hoy es el gran día de nuestra inaugur...</td>\n",
       "      <td>C:\\Users\\yoe11\\Downloads\\explosión.jpeg</td>\n",
       "    </tr>\n",
       "    <tr>\n",
       "      <th>71</th>\n",
       "      <td>7711276504</td>\n",
       "      <td>¡Hola! 🌟 Hoy es el gran día de nuestra inaugur...</td>\n",
       "      <td>C:\\Users\\yoe11\\Downloads\\explosión.jpeg</td>\n",
       "    </tr>\n",
       "    <tr>\n",
       "      <th>72</th>\n",
       "      <td>7711283964</td>\n",
       "      <td>¡Hola! 🌟 Hoy es el gran día de nuestra inaugur...</td>\n",
       "      <td>C:\\Users\\yoe11\\Downloads\\explosión.jpeg</td>\n",
       "    </tr>\n",
       "    <tr>\n",
       "      <th>73</th>\n",
       "      <td>7711288664</td>\n",
       "      <td>¡Hola! 🌟 Hoy es el gran día de nuestra inaugur...</td>\n",
       "      <td>C:\\Users\\yoe11\\Downloads\\explosión.jpeg</td>\n",
       "    </tr>\n",
       "    <tr>\n",
       "      <th>74</th>\n",
       "      <td>7711297776</td>\n",
       "      <td>¡Hola! 🌟 Hoy es el gran día de nuestra inaugur...</td>\n",
       "      <td>C:\\Users\\yoe11\\Downloads\\explosión.jpeg</td>\n",
       "    </tr>\n",
       "  </tbody>\n",
       "</table>\n",
       "<p>75 rows × 3 columns</p>\n",
       "</div>"
      ],
      "text/plain": [
       "         Movil                                            Mensaje  \\\n",
       "0   7711324039  ¡Hola! 🌟 Hoy es el gran día de nuestra inaugur...   \n",
       "1   7711398801  ¡Hola! 🌟 Hoy es el gran día de nuestra inaugur...   \n",
       "2   7711401540  ¡Hola! 🌟 Hoy es el gran día de nuestra inaugur...   \n",
       "3   7711409079  ¡Hola! 🌟 Hoy es el gran día de nuestra inaugur...   \n",
       "4   7711409819  ¡Hola! 🌟 Hoy es el gran día de nuestra inaugur...   \n",
       "..         ...                                                ...   \n",
       "70  7711234394  ¡Hola! 🌟 Hoy es el gran día de nuestra inaugur...   \n",
       "71  7711276504  ¡Hola! 🌟 Hoy es el gran día de nuestra inaugur...   \n",
       "72  7711283964  ¡Hola! 🌟 Hoy es el gran día de nuestra inaugur...   \n",
       "73  7711288664  ¡Hola! 🌟 Hoy es el gran día de nuestra inaugur...   \n",
       "74  7711297776  ¡Hola! 🌟 Hoy es el gran día de nuestra inaugur...   \n",
       "\n",
       "                                     Imagen  \n",
       "0   C:\\Users\\yoe11\\Downloads\\explosión.jpeg  \n",
       "1   C:\\Users\\yoe11\\Downloads\\explosión.jpeg  \n",
       "2   C:\\Users\\yoe11\\Downloads\\explosión.jpeg  \n",
       "3   C:\\Users\\yoe11\\Downloads\\explosión.jpeg  \n",
       "4   C:\\Users\\yoe11\\Downloads\\explosión.jpeg  \n",
       "..                                      ...  \n",
       "70  C:\\Users\\yoe11\\Downloads\\explosión.jpeg  \n",
       "71  C:\\Users\\yoe11\\Downloads\\explosión.jpeg  \n",
       "72  C:\\Users\\yoe11\\Downloads\\explosión.jpeg  \n",
       "73  C:\\Users\\yoe11\\Downloads\\explosión.jpeg  \n",
       "74  C:\\Users\\yoe11\\Downloads\\explosión.jpeg  \n",
       "\n",
       "[75 rows x 3 columns]"
      ]
     },
     "execution_count": 9,
     "metadata": {},
     "output_type": "execute_result"
    }
   ],
   "source": [
    "# Asignar un mensaje aleatorio a cada número\n",
    "asignaciones = []\n",
    "random.seed(42)  # Para reproducibilidad\n",
    "\n",
    "for numero in numeros:\n",
    "    asignacion = random.choice(mensajes)\n",
    "    asignaciones.append({\n",
    "        \"Movil\": numero,\n",
    "        \"Mensaje\": asignacion[\"mensaje\"].replace(\"\\n\", \"\\n\"),\n",
    "        \"Imagen\": asignacion[\"imagen\"]\n",
    "    })\n",
    "\n",
    "# Convertir a DataFrame de pandas\n",
    "df = pd.DataFrame(asignaciones)\n",
    "df"
   ]
  },
  {
   "cell_type": "markdown",
   "metadata": {},
   "source": [
    "### Exportar"
   ]
  },
  {
   "cell_type": "code",
   "execution_count": 10,
   "metadata": {},
   "outputs": [],
   "source": [
    "# Exportar a un archivo Excel\n",
    "df.to_excel(\"listaContactos.xlsx\", index=False)"
   ]
  },
  {
   "cell_type": "code",
   "execution_count": null,
   "metadata": {},
   "outputs": [],
   "source": []
  }
 ],
 "metadata": {
  "kernelspec": {
   "display_name": "base",
   "language": "python",
   "name": "python3"
  },
  "language_info": {
   "codemirror_mode": {
    "name": "ipython",
    "version": 3
   },
   "file_extension": ".py",
   "mimetype": "text/x-python",
   "name": "python",
   "nbconvert_exporter": "python",
   "pygments_lexer": "ipython3",
   "version": "3.9.13"
  }
 },
 "nbformat": 4,
 "nbformat_minor": 2
}
