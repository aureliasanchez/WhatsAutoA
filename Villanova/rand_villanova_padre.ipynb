{
 "cells": [
  {
   "cell_type": "markdown",
   "metadata": {},
   "source": [
    "# **ASIGNAR MENSAJES DE MANERA ALEATORIA**"
   ]
  },
  {
   "cell_type": "code",
   "execution_count": 1,
   "metadata": {},
   "outputs": [],
   "source": [
    "import pandas as pd\n",
    "import random"
   ]
  },
  {
   "cell_type": "markdown",
   "metadata": {},
   "source": [
    "### Lista de números y mensajes"
   ]
  },
  {
   "cell_type": "code",
   "execution_count": 2,
   "metadata": {},
   "outputs": [],
   "source": [
    "# Datos proporcionados\n",
    "numeros = [\n",
    "    \"52_7751238526\", \"52_7751802047\", \"52_7752604971\", \"52_7751537772\", \"52_7751107264\", \"52_7757071611\", \"52_5511567185\", \"52_5532066622\", \"52_6645941262\", \"52_7751002613\", \"52_7751002623\", \"52_7751039445\", \"52_7751192445\", \"52_7751216083\", \"52_7751222402\", \"52_7751415133\", \"52_7751441228\", \"52_7751908703\", \"52_7752567363\", \"52_9841813178\", \"52_5516789200\", \"52_5521913084\", \"52_5532583561\", \"52_5545022039\", \"52_5554060417\", \"52_5567892000\", \"52_5574146813\", \"52_5574994460\", \"52_5580138078\", \"52_5583691784\", \"52_7331007662\", \"52_7711151155\", \"52_7711297655\", \"52_7711299651\", \"52_7711307269\", \"52_7711436368\", \"52_7711495043\", \"52_7711904718\", \"52_7712435110\", \"52_7713540508\", \"52_7713581165\", \"52_7717505039\", \"52_7717949216\", \"52_7751001040\", \"52_7751015613\", \"52_7751016173\", \"52_7751024750\", \"52_7751030651\", \"52_7751030652\", \"52_7751035250\", \"52_7751036634\", \"52_7751048008\", \"52_7751051560\", \"52_7751051832\", \"52_7751053838\", \"52_7751056440\", \"52_7751095146\", \"52_7751095617\", \"52_7751103770\", \"52_7751111300\", \"52_7751113352\", \"52_7751114724\", \"52_7751131043\", \"52_7751137673\", \"52_7751172813\", \"52_7751189132\", \"52_7751196508\", \"52_7751209388\", \"52_7751211403\", \"52_7751211907\", \"52_7751216614\", \"52_7751216752\", \"52_7751221104\", \"52_7751234452\", \"52_7751235490\"\n",
    "]\n",
    "\n",
    "# Mensajes con rutas de imágenes\n",
    "mensajes = [\n",
    "    {\n",
    "        \"mensaje\": \"\"\"⏳ ¡El Día del Padre está a la vuelta de la esquina! Aprovecha nuestra promoción especial y haz que este día sea verdaderamente memorable para papá. ¡Corre a tu Villanova más cercano y encuentra un dulce regalo para él! 🎁👨‍👧‍👦\\nConsulta nuestra página web para conocer todas nuestras sucursales: https://villanova.com.mx/sucursales/\"\"\",\n",
    "        \"imagen\": r\"C:\\Users\\Administrator\\Desktop\\WhatsAutoA\\Images\\diapadre.png\"\n",
    "    },\n",
    "    #{\n",
    "      #  \"mensaje\": \"\"\"📢Le presento la Privada *★Arboledas, Modelo Compostela★*\\n _Tulancingo, Hidalgo  a 5 Minutos de Walmart_\\n\\n🎯 INFORMACION GENERAL :\\n- 🟩 Terreno: 105 m²\\n- 🏡 Construcción: 114 m²\\n- 🛏️Habitaciones: 3 (2 en planta alta, con vestidor)\\n- 🚽Baños: 2\\n- 🚗Estacionamiento: 2\\n- 📺 Sala\\n- 🪑Comedor\\n- 🌿Jardín\\n\\n⛳Amenidades:\\n- 🌲Área Verde\\n- 🥩Asador\\n- 🛝Juegos Infantiles\\n- 📍Céntrico: Valle Sol, 43648 Tulancingo, Hgo.\\n\\n💰Información Hipotecaria & crediticia:\\n*$1,695,000 MXN*\\n1. Pago Promedio mensual: $17,731.23 MXN\\n2. Ingreso mayor a los $47,094.01 MXN mensuales comprobables por pareja\\n\\n💡 ¿Le interesa obtener más información de esta propiedad?\"\"\",\n",
    "     #   \"imagen\": r\"C:\\Users\\4to Creativo\\OneDrive\\Desktop\\WhatsAutoA\\Images\\arboledas.png\"\n",
    "    #},\n",
    "    #{\n",
    "      #  \"mensaje\": \"\"\"📢Le presento la Privada *★Olivo, Modelo Lugo★*\\n _Tulancingo, Hidalgo a 5 Minutos de Walmart_\\n\\n🎯INFORMACION GENERAL:\\n- 🟩Terreno: 119m²\\n- 🏡 Construcción: 152 m²\\n- 🛏️Habitaciones: 4 (Recámara principal con walk in closet)\\n- 🚽Baños: 3 + 1/2\\n- 🚗Estacionamiento: 2\\n- 📺 Sala\\n- 🪑Comedor\\n- 🌿Jardín\\n\\n⛳Amenidades:\\n- 🌲Área verde\\n- 🥩Asador\\n- 🛝Juegos Infantiles\\n- 📍Céntrico: Valle Sol, 43648 Tulancingo, Hgo.\\n\\n💰Información Hipotecaria & crediticia:\\nPrecio *$2,400,000 MXN*\\n1. Pago promedio mensual $24,317.26 MXN\\n2. Ingreso mayor a los $59,000.00 MXN mensuales comprobables por pareja\\n\\n💡¿Le interesa obtener más información de esta propiedad?\"\"\",\n",
    "     #   \"imagen\": r\"C:\\Users\\4to Creativo\\OneDrive\\Desktop\\WhatsAutoA\\Images\\olivo.png\"\n",
    "    #}\n",
    "]"
   ]
  },
  {
   "cell_type": "markdown",
   "metadata": {},
   "source": [
    "### Asignación random"
   ]
  },
  {
   "cell_type": "code",
   "execution_count": 3,
   "metadata": {},
   "outputs": [
    {
     "data": {
      "text/html": [
       "<div>\n",
       "<style scoped>\n",
       "    .dataframe tbody tr th:only-of-type {\n",
       "        vertical-align: middle;\n",
       "    }\n",
       "\n",
       "    .dataframe tbody tr th {\n",
       "        vertical-align: top;\n",
       "    }\n",
       "\n",
       "    .dataframe thead th {\n",
       "        text-align: right;\n",
       "    }\n",
       "</style>\n",
       "<table border=\"1\" class=\"dataframe\">\n",
       "  <thead>\n",
       "    <tr style=\"text-align: right;\">\n",
       "      <th></th>\n",
       "      <th>Movil</th>\n",
       "      <th>Mensaje</th>\n",
       "      <th>Imagen</th>\n",
       "    </tr>\n",
       "  </thead>\n",
       "  <tbody>\n",
       "    <tr>\n",
       "      <th>0</th>\n",
       "      <td>52_7751238526</td>\n",
       "      <td>⏳ ¡El Día del Padre está a la vuelta de la esq...</td>\n",
       "      <td>C:\\Users\\Administrator\\Desktop\\WhatsAutoA\\Imag...</td>\n",
       "    </tr>\n",
       "    <tr>\n",
       "      <th>1</th>\n",
       "      <td>52_7751802047</td>\n",
       "      <td>⏳ ¡El Día del Padre está a la vuelta de la esq...</td>\n",
       "      <td>C:\\Users\\Administrator\\Desktop\\WhatsAutoA\\Imag...</td>\n",
       "    </tr>\n",
       "    <tr>\n",
       "      <th>2</th>\n",
       "      <td>52_7752604971</td>\n",
       "      <td>⏳ ¡El Día del Padre está a la vuelta de la esq...</td>\n",
       "      <td>C:\\Users\\Administrator\\Desktop\\WhatsAutoA\\Imag...</td>\n",
       "    </tr>\n",
       "    <tr>\n",
       "      <th>3</th>\n",
       "      <td>52_7751537772</td>\n",
       "      <td>⏳ ¡El Día del Padre está a la vuelta de la esq...</td>\n",
       "      <td>C:\\Users\\Administrator\\Desktop\\WhatsAutoA\\Imag...</td>\n",
       "    </tr>\n",
       "    <tr>\n",
       "      <th>4</th>\n",
       "      <td>52_7751107264</td>\n",
       "      <td>⏳ ¡El Día del Padre está a la vuelta de la esq...</td>\n",
       "      <td>C:\\Users\\Administrator\\Desktop\\WhatsAutoA\\Imag...</td>\n",
       "    </tr>\n",
       "    <tr>\n",
       "      <th>...</th>\n",
       "      <td>...</td>\n",
       "      <td>...</td>\n",
       "      <td>...</td>\n",
       "    </tr>\n",
       "    <tr>\n",
       "      <th>70</th>\n",
       "      <td>52_7751216614</td>\n",
       "      <td>⏳ ¡El Día del Padre está a la vuelta de la esq...</td>\n",
       "      <td>C:\\Users\\Administrator\\Desktop\\WhatsAutoA\\Imag...</td>\n",
       "    </tr>\n",
       "    <tr>\n",
       "      <th>71</th>\n",
       "      <td>52_7751216752</td>\n",
       "      <td>⏳ ¡El Día del Padre está a la vuelta de la esq...</td>\n",
       "      <td>C:\\Users\\Administrator\\Desktop\\WhatsAutoA\\Imag...</td>\n",
       "    </tr>\n",
       "    <tr>\n",
       "      <th>72</th>\n",
       "      <td>52_7751221104</td>\n",
       "      <td>⏳ ¡El Día del Padre está a la vuelta de la esq...</td>\n",
       "      <td>C:\\Users\\Administrator\\Desktop\\WhatsAutoA\\Imag...</td>\n",
       "    </tr>\n",
       "    <tr>\n",
       "      <th>73</th>\n",
       "      <td>52_7751234452</td>\n",
       "      <td>⏳ ¡El Día del Padre está a la vuelta de la esq...</td>\n",
       "      <td>C:\\Users\\Administrator\\Desktop\\WhatsAutoA\\Imag...</td>\n",
       "    </tr>\n",
       "    <tr>\n",
       "      <th>74</th>\n",
       "      <td>52_7751235490</td>\n",
       "      <td>⏳ ¡El Día del Padre está a la vuelta de la esq...</td>\n",
       "      <td>C:\\Users\\Administrator\\Desktop\\WhatsAutoA\\Imag...</td>\n",
       "    </tr>\n",
       "  </tbody>\n",
       "</table>\n",
       "<p>75 rows × 3 columns</p>\n",
       "</div>"
      ],
      "text/plain": [
       "            Movil                                            Mensaje  \\\n",
       "0   52_7751238526  ⏳ ¡El Día del Padre está a la vuelta de la esq...   \n",
       "1   52_7751802047  ⏳ ¡El Día del Padre está a la vuelta de la esq...   \n",
       "2   52_7752604971  ⏳ ¡El Día del Padre está a la vuelta de la esq...   \n",
       "3   52_7751537772  ⏳ ¡El Día del Padre está a la vuelta de la esq...   \n",
       "4   52_7751107264  ⏳ ¡El Día del Padre está a la vuelta de la esq...   \n",
       "..            ...                                                ...   \n",
       "70  52_7751216614  ⏳ ¡El Día del Padre está a la vuelta de la esq...   \n",
       "71  52_7751216752  ⏳ ¡El Día del Padre está a la vuelta de la esq...   \n",
       "72  52_7751221104  ⏳ ¡El Día del Padre está a la vuelta de la esq...   \n",
       "73  52_7751234452  ⏳ ¡El Día del Padre está a la vuelta de la esq...   \n",
       "74  52_7751235490  ⏳ ¡El Día del Padre está a la vuelta de la esq...   \n",
       "\n",
       "                                               Imagen  \n",
       "0   C:\\Users\\Administrator\\Desktop\\WhatsAutoA\\Imag...  \n",
       "1   C:\\Users\\Administrator\\Desktop\\WhatsAutoA\\Imag...  \n",
       "2   C:\\Users\\Administrator\\Desktop\\WhatsAutoA\\Imag...  \n",
       "3   C:\\Users\\Administrator\\Desktop\\WhatsAutoA\\Imag...  \n",
       "4   C:\\Users\\Administrator\\Desktop\\WhatsAutoA\\Imag...  \n",
       "..                                                ...  \n",
       "70  C:\\Users\\Administrator\\Desktop\\WhatsAutoA\\Imag...  \n",
       "71  C:\\Users\\Administrator\\Desktop\\WhatsAutoA\\Imag...  \n",
       "72  C:\\Users\\Administrator\\Desktop\\WhatsAutoA\\Imag...  \n",
       "73  C:\\Users\\Administrator\\Desktop\\WhatsAutoA\\Imag...  \n",
       "74  C:\\Users\\Administrator\\Desktop\\WhatsAutoA\\Imag...  \n",
       "\n",
       "[75 rows x 3 columns]"
      ]
     },
     "execution_count": 3,
     "metadata": {},
     "output_type": "execute_result"
    }
   ],
   "source": [
    "# Asignar un mensaje aleatorio a cada número\n",
    "asignaciones = []\n",
    "random.seed(42)  # Para reproducibilidad\n",
    "\n",
    "for numero in numeros:\n",
    "    asignacion = random.choice(mensajes)\n",
    "    asignaciones.append({\n",
    "        \"Movil\": numero,\n",
    "        \"Mensaje\": asignacion[\"mensaje\"].replace(\"\\n\", \"\\n\"),\n",
    "        \"Imagen\": asignacion[\"imagen\"]\n",
    "    })\n",
    "\n",
    "# Convertir a DataFrame de pandas\n",
    "df = pd.DataFrame(asignaciones)\n",
    "df"
   ]
  },
  {
   "cell_type": "markdown",
   "metadata": {},
   "source": [
    "### Exportar"
   ]
  },
  {
   "cell_type": "code",
   "execution_count": 4,
   "metadata": {},
   "outputs": [],
   "source": [
    "# Exportar a un archivo Excel\n",
    "df.to_excel(\"listaContactos.xlsx\", index=False)"
   ]
  }
 ],
 "metadata": {
  "kernelspec": {
   "display_name": "base",
   "language": "python",
   "name": "python3"
  },
  "language_info": {
   "codemirror_mode": {
    "name": "ipython",
    "version": 3
   },
   "file_extension": ".py",
   "mimetype": "text/x-python",
   "name": "python",
   "nbconvert_exporter": "python",
   "pygments_lexer": "ipython3",
   "version": "3.9.13"
  }
 },
 "nbformat": 4,
 "nbformat_minor": 2
}
