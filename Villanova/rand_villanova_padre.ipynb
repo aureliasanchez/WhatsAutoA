{
 "cells": [
  {
   "cell_type": "markdown",
   "metadata": {},
   "source": [
    "# **ASIGNAR MENSAJES DE MANERA ALEATORIA**"
   ]
  },
  {
   "cell_type": "code",
   "execution_count": 1,
   "metadata": {},
   "outputs": [],
   "source": [
    "import pandas as pd\n",
    "import random"
   ]
  },
  {
   "cell_type": "markdown",
   "metadata": {},
   "source": [
    "### Lista de números y mensajes"
   ]
  },
  {
   "cell_type": "code",
   "execution_count": 2,
   "metadata": {},
   "outputs": [],
   "source": [
    "# Datos proporcionados\n",
    "numeros = [\n",
    "    \"52_7757071611\", \"52_5511567185\", \"52_7751002613\", \"52_7751216083\", \"52_7751222402\", \"52_7752567363\", \"52_9841813178\", \"52_5516789200\", \"52_5532583561\", \"52_5567892000\", \"52_5574146813\", \"52_5583691784\", \"52_7711151155\", \"52_7711297655\", \"52_7711307269\", \"52_7711436368\", \"52_7711495043\", \"52_7711904718\", \"52_7712435110\", \"52_7713540508\", \"52_7713581165\", \"52_7717949216\", \"52_7751016173\", \"52_7751030652\", \"52_7751056440\", \"52_7751137673\", \"52_7751189132\", \"52_7751211907\", \"52_7751234452\", \"52_7751239531\", \"52_7751254678\", \"52_7751258688\", \"52_7751268507\", \"52_7751271383\", \"52_7751276393\", \"52_7751279270\", \"52_7751280531\", \"52_7751284128\", \"52_7751284302\", \"52_7751284762\", \"52_7751285587\", \"52_7751288312\", \"52_7751288387\", \"52_7751291713\", \"52_7751298898\", \"52_7751303350\", \"52_7751305608\", \"52_7751312451\", \"52_7751314534\", \"52_7751337045\", \"52_7751357477\", \"52_7751357478\", \"52_7751364927\", \"52_7751365236\", \"52_7751375681\", \"52_7751379967\", \"52_7751388084\", \"52_7751388240\", \"52_7751392801\", \"52_7751392885\", \"52_7751393649\"\n",
    "]\n",
    "\n",
    "\n",
    "# Mensajes con rutas de imágenes\n",
    "mensajes = [\n",
    "    {\n",
    "        \"mensaje\": \"\"\"⏳ ¡El Día del Padre está a la vuelta de la esquina! Aprovecha nuestra promoción especial y haz que este día sea verdaderamente memorable para papá. ¡Corre a tu Villanova más cercano y encuentra un dulce regalo para él! 🎁👨‍👧‍👦\\nConsulta nuestra página web para conocer todas nuestras sucursales: https://villanova.com.mx/sucursales/\"\"\",\n",
    "        \"imagen\": r\"D:\\yoe11\\Documents\\TESEO\\Mensajes\\WhatsAutoA\\Images\\diapadre.png\"\n",
    "    },\n",
    "    #{\n",
    "      #  \"mensaje\": \"\"\"📢Le presento la Privada *★Arboledas, Modelo Compostela★*\\n _Tulancingo, Hidalgo  a 5 Minutos de Walmart_\\n\\n🎯 INFORMACION GENERAL :\\n- 🟩 Terreno: 105 m²\\n- 🏡 Construcción: 114 m²\\n- 🛏️Habitaciones: 3 (2 en planta alta, con vestidor)\\n- 🚽Baños: 2\\n- 🚗Estacionamiento: 2\\n- 📺 Sala\\n- 🪑Comedor\\n- 🌿Jardín\\n\\n⛳Amenidades:\\n- 🌲Área Verde\\n- 🥩Asador\\n- 🛝Juegos Infantiles\\n- 📍Céntrico: Valle Sol, 43648 Tulancingo, Hgo.\\n\\n💰Información Hipotecaria & crediticia:\\n*$1,695,000 MXN*\\n1. Pago Promedio mensual: $17,731.23 MXN\\n2. Ingreso mayor a los $47,094.01 MXN mensuales comprobables por pareja\\n\\n💡 ¿Le interesa obtener más información de esta propiedad?\"\"\",\n",
    "     #   \"imagen\": r\"C:\\Users\\4to Creativo\\OneDrive\\Desktop\\WhatsAutoA\\Images\\arboledas.png\"\n",
    "    #},\n",
    "    #{\n",
    "      #  \"mensaje\": \"\"\"📢Le presento la Privada *★Olivo, Modelo Lugo★*\\n _Tulancingo, Hidalgo a 5 Minutos de Walmart_\\n\\n🎯INFORMACION GENERAL:\\n- 🟩Terreno: 119m²\\n- 🏡 Construcción: 152 m²\\n- 🛏️Habitaciones: 4 (Recámara principal con walk in closet)\\n- 🚽Baños: 3 + 1/2\\n- 🚗Estacionamiento: 2\\n- 📺 Sala\\n- 🪑Comedor\\n- 🌿Jardín\\n\\n⛳Amenidades:\\n- 🌲Área verde\\n- 🥩Asador\\n- 🛝Juegos Infantiles\\n- 📍Céntrico: Valle Sol, 43648 Tulancingo, Hgo.\\n\\n💰Información Hipotecaria & crediticia:\\nPrecio *$2,400,000 MXN*\\n1. Pago promedio mensual $24,317.26 MXN\\n2. Ingreso mayor a los $59,000.00 MXN mensuales comprobables por pareja\\n\\n💡¿Le interesa obtener más información de esta propiedad?\"\"\",\n",
    "     #   \"imagen\": r\"C:\\Users\\4to Creativo\\OneDrive\\Desktop\\WhatsAutoA\\Images\\olivo.png\"\n",
    "    #}\n",
    "]"
   ]
  },
  {
   "cell_type": "markdown",
   "metadata": {},
   "source": [
    "### Asignación random"
   ]
  },
  {
   "cell_type": "code",
   "execution_count": 3,
   "metadata": {},
   "outputs": [
    {
     "data": {
      "text/html": [
       "<div>\n",
       "<style scoped>\n",
       "    .dataframe tbody tr th:only-of-type {\n",
       "        vertical-align: middle;\n",
       "    }\n",
       "\n",
       "    .dataframe tbody tr th {\n",
       "        vertical-align: top;\n",
       "    }\n",
       "\n",
       "    .dataframe thead th {\n",
       "        text-align: right;\n",
       "    }\n",
       "</style>\n",
       "<table border=\"1\" class=\"dataframe\">\n",
       "  <thead>\n",
       "    <tr style=\"text-align: right;\">\n",
       "      <th></th>\n",
       "      <th>Movil</th>\n",
       "      <th>Mensaje</th>\n",
       "      <th>Imagen</th>\n",
       "    </tr>\n",
       "  </thead>\n",
       "  <tbody>\n",
       "    <tr>\n",
       "      <th>0</th>\n",
       "      <td>52_7757071611</td>\n",
       "      <td>⏳ ¡El Día del Padre está a la vuelta de la esq...</td>\n",
       "      <td>D:\\yoe11\\Documents\\TESEO\\Mensajes\\WhatsAutoA\\I...</td>\n",
       "    </tr>\n",
       "    <tr>\n",
       "      <th>1</th>\n",
       "      <td>52_5511567185</td>\n",
       "      <td>⏳ ¡El Día del Padre está a la vuelta de la esq...</td>\n",
       "      <td>D:\\yoe11\\Documents\\TESEO\\Mensajes\\WhatsAutoA\\I...</td>\n",
       "    </tr>\n",
       "    <tr>\n",
       "      <th>2</th>\n",
       "      <td>52_7751002613</td>\n",
       "      <td>⏳ ¡El Día del Padre está a la vuelta de la esq...</td>\n",
       "      <td>D:\\yoe11\\Documents\\TESEO\\Mensajes\\WhatsAutoA\\I...</td>\n",
       "    </tr>\n",
       "    <tr>\n",
       "      <th>3</th>\n",
       "      <td>52_7751216083</td>\n",
       "      <td>⏳ ¡El Día del Padre está a la vuelta de la esq...</td>\n",
       "      <td>D:\\yoe11\\Documents\\TESEO\\Mensajes\\WhatsAutoA\\I...</td>\n",
       "    </tr>\n",
       "    <tr>\n",
       "      <th>4</th>\n",
       "      <td>52_7751222402</td>\n",
       "      <td>⏳ ¡El Día del Padre está a la vuelta de la esq...</td>\n",
       "      <td>D:\\yoe11\\Documents\\TESEO\\Mensajes\\WhatsAutoA\\I...</td>\n",
       "    </tr>\n",
       "    <tr>\n",
       "      <th>...</th>\n",
       "      <td>...</td>\n",
       "      <td>...</td>\n",
       "      <td>...</td>\n",
       "    </tr>\n",
       "    <tr>\n",
       "      <th>56</th>\n",
       "      <td>52_7751388084</td>\n",
       "      <td>⏳ ¡El Día del Padre está a la vuelta de la esq...</td>\n",
       "      <td>D:\\yoe11\\Documents\\TESEO\\Mensajes\\WhatsAutoA\\I...</td>\n",
       "    </tr>\n",
       "    <tr>\n",
       "      <th>57</th>\n",
       "      <td>52_7751388240</td>\n",
       "      <td>⏳ ¡El Día del Padre está a la vuelta de la esq...</td>\n",
       "      <td>D:\\yoe11\\Documents\\TESEO\\Mensajes\\WhatsAutoA\\I...</td>\n",
       "    </tr>\n",
       "    <tr>\n",
       "      <th>58</th>\n",
       "      <td>52_7751392801</td>\n",
       "      <td>⏳ ¡El Día del Padre está a la vuelta de la esq...</td>\n",
       "      <td>D:\\yoe11\\Documents\\TESEO\\Mensajes\\WhatsAutoA\\I...</td>\n",
       "    </tr>\n",
       "    <tr>\n",
       "      <th>59</th>\n",
       "      <td>52_7751392885</td>\n",
       "      <td>⏳ ¡El Día del Padre está a la vuelta de la esq...</td>\n",
       "      <td>D:\\yoe11\\Documents\\TESEO\\Mensajes\\WhatsAutoA\\I...</td>\n",
       "    </tr>\n",
       "    <tr>\n",
       "      <th>60</th>\n",
       "      <td>52_7751393649</td>\n",
       "      <td>⏳ ¡El Día del Padre está a la vuelta de la esq...</td>\n",
       "      <td>D:\\yoe11\\Documents\\TESEO\\Mensajes\\WhatsAutoA\\I...</td>\n",
       "    </tr>\n",
       "  </tbody>\n",
       "</table>\n",
       "<p>61 rows × 3 columns</p>\n",
       "</div>"
      ],
      "text/plain": [
       "            Movil                                            Mensaje  \\\n",
       "0   52_7757071611  ⏳ ¡El Día del Padre está a la vuelta de la esq...   \n",
       "1   52_5511567185  ⏳ ¡El Día del Padre está a la vuelta de la esq...   \n",
       "2   52_7751002613  ⏳ ¡El Día del Padre está a la vuelta de la esq...   \n",
       "3   52_7751216083  ⏳ ¡El Día del Padre está a la vuelta de la esq...   \n",
       "4   52_7751222402  ⏳ ¡El Día del Padre está a la vuelta de la esq...   \n",
       "..            ...                                                ...   \n",
       "56  52_7751388084  ⏳ ¡El Día del Padre está a la vuelta de la esq...   \n",
       "57  52_7751388240  ⏳ ¡El Día del Padre está a la vuelta de la esq...   \n",
       "58  52_7751392801  ⏳ ¡El Día del Padre está a la vuelta de la esq...   \n",
       "59  52_7751392885  ⏳ ¡El Día del Padre está a la vuelta de la esq...   \n",
       "60  52_7751393649  ⏳ ¡El Día del Padre está a la vuelta de la esq...   \n",
       "\n",
       "                                               Imagen  \n",
       "0   D:\\yoe11\\Documents\\TESEO\\Mensajes\\WhatsAutoA\\I...  \n",
       "1   D:\\yoe11\\Documents\\TESEO\\Mensajes\\WhatsAutoA\\I...  \n",
       "2   D:\\yoe11\\Documents\\TESEO\\Mensajes\\WhatsAutoA\\I...  \n",
       "3   D:\\yoe11\\Documents\\TESEO\\Mensajes\\WhatsAutoA\\I...  \n",
       "4   D:\\yoe11\\Documents\\TESEO\\Mensajes\\WhatsAutoA\\I...  \n",
       "..                                                ...  \n",
       "56  D:\\yoe11\\Documents\\TESEO\\Mensajes\\WhatsAutoA\\I...  \n",
       "57  D:\\yoe11\\Documents\\TESEO\\Mensajes\\WhatsAutoA\\I...  \n",
       "58  D:\\yoe11\\Documents\\TESEO\\Mensajes\\WhatsAutoA\\I...  \n",
       "59  D:\\yoe11\\Documents\\TESEO\\Mensajes\\WhatsAutoA\\I...  \n",
       "60  D:\\yoe11\\Documents\\TESEO\\Mensajes\\WhatsAutoA\\I...  \n",
       "\n",
       "[61 rows x 3 columns]"
      ]
     },
     "execution_count": 3,
     "metadata": {},
     "output_type": "execute_result"
    }
   ],
   "source": [
    "# Asignar un mensaje aleatorio a cada número\n",
    "asignaciones = []\n",
    "random.seed(42)  # Para reproducibilidad\n",
    "\n",
    "for numero in numeros:\n",
    "    asignacion = random.choice(mensajes)\n",
    "    asignaciones.append({\n",
    "        \"Movil\": numero,\n",
    "        \"Mensaje\": asignacion[\"mensaje\"].replace(\"\\n\", \"\\n\"),\n",
    "        \"Imagen\": asignacion[\"imagen\"]\n",
    "    })\n",
    "\n",
    "# Convertir a DataFrame de pandas\n",
    "df = pd.DataFrame(asignaciones)\n",
    "df"
   ]
  },
  {
   "cell_type": "markdown",
   "metadata": {},
   "source": [
    "### Exportar"
   ]
  },
  {
   "cell_type": "code",
   "execution_count": 4,
   "metadata": {},
   "outputs": [],
   "source": [
    "# Exportar a un archivo Excel\n",
    "df.to_excel(\"listaContactos.xlsx\", index=False)"
   ]
  },
  {
   "cell_type": "code",
   "execution_count": null,
   "metadata": {},
   "outputs": [],
   "source": []
  }
 ],
 "metadata": {
  "kernelspec": {
   "display_name": "base",
   "language": "python",
   "name": "python3"
  },
  "language_info": {
   "codemirror_mode": {
    "name": "ipython",
    "version": 3
   },
   "file_extension": ".py",
   "mimetype": "text/x-python",
   "name": "python",
   "nbconvert_exporter": "python",
   "pygments_lexer": "ipython3",
   "version": "3.9.13"
  }
 },
 "nbformat": 4,
 "nbformat_minor": 2
}
