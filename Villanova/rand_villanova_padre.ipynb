{
 "cells": [
  {
   "cell_type": "markdown",
   "metadata": {},
   "source": [
    "# **ASIGNAR MENSAJES DE MANERA ALEATORIA**"
   ]
  },
  {
   "cell_type": "code",
   "execution_count": 1,
   "metadata": {},
   "outputs": [],
   "source": [
    "import pandas as pd\n",
    "import random"
   ]
  },
  {
   "cell_type": "markdown",
   "metadata": {},
   "source": [
    "### Lista de números y mensajes"
   ]
  },
  {
   "cell_type": "code",
   "execution_count": 2,
   "metadata": {},
   "outputs": [],
   "source": [
    "# Datos proporcionados\n",
    "numeros = [\n",
    "'52_7711073537','52_7712950081','52_7711992974','52_7711747436','52_7713571660','52_7731059617','52_7711807599','52_7712902157','52_7715685344',\n",
    "'52_7711732188','52_7712616254','52_7711897469','52_5532220604','52_7711276196','52_7712920608','52_7711180557','52_7711259408','52_7716832918',\n",
    "'52_7717751751','52_7712041818','52_7711505142','52_7711159985','52_7712901155','52_7715671199','52_7712210177','52_7712645079','52_7712074699',\n",
    "'52_7711416574','52_7711295861','52_7711034815','52_7717475472','52_7715267283','52_7721052024','52_7712958916','52_7711732188','52_7712016256',\n",
    "'52_5567860006','52_5567860006','52_7711907951','52_7713310379','52_7711378513','52_7713228980','52_7751273204','52_7716839913','52_7712172709',\n",
    "'52_7712935118','52_7713291772','52_7711467031','52_5585245435','52_7717485131','52_7717940941','52_7712388294','52_7711492910','52_7711294075',\n",
    "'52_7711588853','52_7712310340','52_7712894116','52_7711290199','52_7442250078','52_7713220321','52_7711227340','52_7717092266','52_7712444491',\n",
    "'52_5585541232','52_7711274075','52_771 700 9608','52_7713000488','52_7711949671','52_7751185611','52_7711943453','52_7712952307','52_7712133101','52_7711725327','52_7711614013'\n",
    "]\n",
    "\n",
    "# Mensajes con rutas de imágenes\n",
    "mensajes = [\n",
    "    {\n",
    "        \"mensaje\": \"\"\"¿Te gustaría que te consintamos con un helado?  🍦\\n¡Ven a nuestra **INAUGURACIÓN** en Explanada Pachuca este 20 de junio a las 5:00pm!\\n Será una tarde increíblemente cool y llena de sabor. 😋🍨\\n¡Te esperamos!🎉\\n\"\"\",\n",
    "        \"imagen\": r\"D:\\yoe11\\Documents\\TESEO\\Mensajes\\WhatsAutoA\\Images\\explanada.png\"\n",
    "    }\n",
    "]"
   ]
  },
  {
   "cell_type": "markdown",
   "metadata": {},
   "source": [
    "### Asignación random"
   ]
  },
  {
   "cell_type": "code",
   "execution_count": 3,
   "metadata": {},
   "outputs": [
    {
     "data": {
      "text/html": [
       "<div>\n",
       "<style scoped>\n",
       "    .dataframe tbody tr th:only-of-type {\n",
       "        vertical-align: middle;\n",
       "    }\n",
       "\n",
       "    .dataframe tbody tr th {\n",
       "        vertical-align: top;\n",
       "    }\n",
       "\n",
       "    .dataframe thead th {\n",
       "        text-align: right;\n",
       "    }\n",
       "</style>\n",
       "<table border=\"1\" class=\"dataframe\">\n",
       "  <thead>\n",
       "    <tr style=\"text-align: right;\">\n",
       "      <th></th>\n",
       "      <th>Movil</th>\n",
       "      <th>Mensaje</th>\n",
       "      <th>Imagen</th>\n",
       "    </tr>\n",
       "  </thead>\n",
       "  <tbody>\n",
       "    <tr>\n",
       "      <th>0</th>\n",
       "      <td>52_7757071611</td>\n",
       "      <td>⏳ ¡El Día del Padre está a la vuelta de la esq...</td>\n",
       "      <td>D:\\yoe11\\Documents\\TESEO\\Mensajes\\WhatsAutoA\\I...</td>\n",
       "    </tr>\n",
       "    <tr>\n",
       "      <th>1</th>\n",
       "      <td>52_5511567185</td>\n",
       "      <td>⏳ ¡El Día del Padre está a la vuelta de la esq...</td>\n",
       "      <td>D:\\yoe11\\Documents\\TESEO\\Mensajes\\WhatsAutoA\\I...</td>\n",
       "    </tr>\n",
       "    <tr>\n",
       "      <th>2</th>\n",
       "      <td>52_7751002613</td>\n",
       "      <td>⏳ ¡El Día del Padre está a la vuelta de la esq...</td>\n",
       "      <td>D:\\yoe11\\Documents\\TESEO\\Mensajes\\WhatsAutoA\\I...</td>\n",
       "    </tr>\n",
       "    <tr>\n",
       "      <th>3</th>\n",
       "      <td>52_7751216083</td>\n",
       "      <td>⏳ ¡El Día del Padre está a la vuelta de la esq...</td>\n",
       "      <td>D:\\yoe11\\Documents\\TESEO\\Mensajes\\WhatsAutoA\\I...</td>\n",
       "    </tr>\n",
       "    <tr>\n",
       "      <th>4</th>\n",
       "      <td>52_7751222402</td>\n",
       "      <td>⏳ ¡El Día del Padre está a la vuelta de la esq...</td>\n",
       "      <td>D:\\yoe11\\Documents\\TESEO\\Mensajes\\WhatsAutoA\\I...</td>\n",
       "    </tr>\n",
       "    <tr>\n",
       "      <th>...</th>\n",
       "      <td>...</td>\n",
       "      <td>...</td>\n",
       "      <td>...</td>\n",
       "    </tr>\n",
       "    <tr>\n",
       "      <th>56</th>\n",
       "      <td>52_7751388084</td>\n",
       "      <td>⏳ ¡El Día del Padre está a la vuelta de la esq...</td>\n",
       "      <td>D:\\yoe11\\Documents\\TESEO\\Mensajes\\WhatsAutoA\\I...</td>\n",
       "    </tr>\n",
       "    <tr>\n",
       "      <th>57</th>\n",
       "      <td>52_7751388240</td>\n",
       "      <td>⏳ ¡El Día del Padre está a la vuelta de la esq...</td>\n",
       "      <td>D:\\yoe11\\Documents\\TESEO\\Mensajes\\WhatsAutoA\\I...</td>\n",
       "    </tr>\n",
       "    <tr>\n",
       "      <th>58</th>\n",
       "      <td>52_7751392801</td>\n",
       "      <td>⏳ ¡El Día del Padre está a la vuelta de la esq...</td>\n",
       "      <td>D:\\yoe11\\Documents\\TESEO\\Mensajes\\WhatsAutoA\\I...</td>\n",
       "    </tr>\n",
       "    <tr>\n",
       "      <th>59</th>\n",
       "      <td>52_7751392885</td>\n",
       "      <td>⏳ ¡El Día del Padre está a la vuelta de la esq...</td>\n",
       "      <td>D:\\yoe11\\Documents\\TESEO\\Mensajes\\WhatsAutoA\\I...</td>\n",
       "    </tr>\n",
       "    <tr>\n",
       "      <th>60</th>\n",
       "      <td>52_7751393649</td>\n",
       "      <td>⏳ ¡El Día del Padre está a la vuelta de la esq...</td>\n",
       "      <td>D:\\yoe11\\Documents\\TESEO\\Mensajes\\WhatsAutoA\\I...</td>\n",
       "    </tr>\n",
       "  </tbody>\n",
       "</table>\n",
       "<p>61 rows × 3 columns</p>\n",
       "</div>"
      ],
      "text/plain": [
       "            Movil                                            Mensaje  \\\n",
       "0   52_7757071611  ⏳ ¡El Día del Padre está a la vuelta de la esq...   \n",
       "1   52_5511567185  ⏳ ¡El Día del Padre está a la vuelta de la esq...   \n",
       "2   52_7751002613  ⏳ ¡El Día del Padre está a la vuelta de la esq...   \n",
       "3   52_7751216083  ⏳ ¡El Día del Padre está a la vuelta de la esq...   \n",
       "4   52_7751222402  ⏳ ¡El Día del Padre está a la vuelta de la esq...   \n",
       "..            ...                                                ...   \n",
       "56  52_7751388084  ⏳ ¡El Día del Padre está a la vuelta de la esq...   \n",
       "57  52_7751388240  ⏳ ¡El Día del Padre está a la vuelta de la esq...   \n",
       "58  52_7751392801  ⏳ ¡El Día del Padre está a la vuelta de la esq...   \n",
       "59  52_7751392885  ⏳ ¡El Día del Padre está a la vuelta de la esq...   \n",
       "60  52_7751393649  ⏳ ¡El Día del Padre está a la vuelta de la esq...   \n",
       "\n",
       "                                               Imagen  \n",
       "0   D:\\yoe11\\Documents\\TESEO\\Mensajes\\WhatsAutoA\\I...  \n",
       "1   D:\\yoe11\\Documents\\TESEO\\Mensajes\\WhatsAutoA\\I...  \n",
       "2   D:\\yoe11\\Documents\\TESEO\\Mensajes\\WhatsAutoA\\I...  \n",
       "3   D:\\yoe11\\Documents\\TESEO\\Mensajes\\WhatsAutoA\\I...  \n",
       "4   D:\\yoe11\\Documents\\TESEO\\Mensajes\\WhatsAutoA\\I...  \n",
       "..                                                ...  \n",
       "56  D:\\yoe11\\Documents\\TESEO\\Mensajes\\WhatsAutoA\\I...  \n",
       "57  D:\\yoe11\\Documents\\TESEO\\Mensajes\\WhatsAutoA\\I...  \n",
       "58  D:\\yoe11\\Documents\\TESEO\\Mensajes\\WhatsAutoA\\I...  \n",
       "59  D:\\yoe11\\Documents\\TESEO\\Mensajes\\WhatsAutoA\\I...  \n",
       "60  D:\\yoe11\\Documents\\TESEO\\Mensajes\\WhatsAutoA\\I...  \n",
       "\n",
       "[61 rows x 3 columns]"
      ]
     },
     "execution_count": 3,
     "metadata": {},
     "output_type": "execute_result"
    }
   ],
   "source": [
    "# Asignar un mensaje aleatorio a cada número\n",
    "asignaciones = []\n",
    "random.seed(42)  # Para reproducibilidad\n",
    "\n",
    "for numero in numeros:\n",
    "    asignacion = random.choice(mensajes)\n",
    "    asignaciones.append({\n",
    "        \"Movil\": numero,\n",
    "        \"Mensaje\": asignacion[\"mensaje\"].replace(\"\\n\", \"\\n\"),\n",
    "        \"Imagen\": asignacion[\"imagen\"]\n",
    "    })\n",
    "\n",
    "# Convertir a DataFrame de pandas\n",
    "df = pd.DataFrame(asignaciones)\n",
    "df"
   ]
  },
  {
   "cell_type": "markdown",
   "metadata": {},
   "source": [
    "### Exportar"
   ]
  },
  {
   "cell_type": "code",
   "execution_count": 4,
   "metadata": {},
   "outputs": [],
   "source": [
    "# Exportar a un archivo Excel\n",
    "df.to_excel(\"listaContactos.xlsx\", index=False)"
   ]
  },
  {
   "cell_type": "code",
   "execution_count": null,
   "metadata": {},
   "outputs": [],
   "source": []
  }
 ],
 "metadata": {
  "kernelspec": {
   "display_name": "base",
   "language": "python",
   "name": "python3"
  },
  "language_info": {
   "codemirror_mode": {
    "name": "ipython",
    "version": 3
   },
   "file_extension": ".py",
   "mimetype": "text/x-python",
   "name": "python",
   "nbconvert_exporter": "python",
   "pygments_lexer": "ipython3",
   "version": "3.9.13"
  }
 },
 "nbformat": 4,
 "nbformat_minor": 2
}
