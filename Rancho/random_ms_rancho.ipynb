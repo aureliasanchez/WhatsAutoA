{
 "cells": [
  {
   "cell_type": "markdown",
   "metadata": {},
   "source": [
    "# **ASIGNAR MENSAJES DE MANERA ALEATORIA**"
   ]
  },
  {
   "cell_type": "code",
   "execution_count": 4,
   "metadata": {},
   "outputs": [],
   "source": [
    "import pandas as pd\n",
    "import random"
   ]
  },
  {
   "cell_type": "markdown",
   "metadata": {},
   "source": [
    "### Lista de números y mensajes"
   ]
  },
  {
   "cell_type": "code",
   "execution_count": null,
   "metadata": {},
   "outputs": [],
   "source": [
    "# Datos proporcionados\n",
    "numeros = [\n",
    "    \"52_7641164697\", \"52_7715252610\", \"52_7717002363\", \"52_7717753383\", \"52_7751005028\",\n",
    "    \"52_7751028295\", \"52_7751030618\", \"52_7751055027\", \"52_7751057533\", \"52_7751074716\",\n",
    "    \"52_7751084243\", \"52_7751095522\", \"52_7751135252\", \"52_7751143063\", \"52_7751147942\",\n",
    "    \"52_7751148355\", \"52_7751152747\", \"52_7751152829\", \"52_7751178357\", \"52_7751185375\",\n",
    "    \"52_7751188713\", \"52_7751200172\", \"52_7751200647\", \"52_7751221190\", \"52_7751224188\",\n",
    "    \"52_7751227275\", \"52_7751229121\", \"52_7751234567\", \"52_7751240145\", \"52_7751240596\",\n",
    "    \"52_7751241215\", \"52_7751245518\", \"52_7751245727\", \"52_7751247082\", \"52_7751250758\",\n",
    "    \"52_7751254336\", \"52_7751255425\", \"52_7751261065\", \"52_7751262128\", \"52_7751276816\",\n",
    "    \"52_7751276962\", \"52_7751279749\", \"52_7751283904\", \"52_7751299630\", \"52_7751303491\"\n",
    "]\n",
    "\n",
    "# Mensajes con rutas de imágenes\n",
    "mensajes = [\n",
    "    {\n",
    "        \"mensaje\": \"\"\"📢Le presento la Privada *★Azucena, Modelo Dúplex★*\\n _Tulancingo, Hidalgo  a 5 Minutos de Walmart_\\n\\n🎯INFORMACION GENERAL:\\n- 🟩Plantas: 2\\n- 🏡 Construcción: 95.9 m²\\n- 🛏️Habitaciones: 2\\n- 🚽Baños: 1 + 1/2\\n- 🚗Estacionamiento: 2\\n- 📺 Sala\\n- 🪑Comedor\\n- 🌿Jardín\\n\\n⛳Amenidades:\\n- 🌲Área Verde\\n- 🥩Asador\\n- 🛝Juegos Infantiles\\n- 📍Céntrico: Valle Sol, 43648 Tulancingo, Hgo.\\n\\n💰Información Hipotecaria & crediticia:\\n*$1,195,000 MXN*\\n1. Pago Promedio mensual $11,000.35 MXN\\n2. Ingreso mayor a los $25,511.47 MXN Mensuales comprobables por pareja\\n\\n💡 ¿Le interesa obtener más información de esta propiedad?\"\"\",\n",
    "        \"imagen\": r\"C:\\Users\\4to Creativo\\OneDrive\\Desktop\\WhatsAutoA\\Images\\azucena.png\"\n",
    "    },\n",
    "    {\n",
    "        \"mensaje\": \"\"\"📢Le presento la Privada *★Arboledas, Modelo Compostela★*\\n _Tulancingo, Hidalgo  a 5 Minutos de Walmart_\\n\\n🎯 INFORMACION GENERAL :\\n- 🟩 Terreno: 105 m²\\n- 🏡 Construcción: 114 m²\\n- 🛏️Habitaciones: 3 (2 en planta alta, con vestidor)\\n- 🚽Baños: 2\\n- 🚗Estacionamiento: 2\\n- 📺 Sala\\n- 🪑Comedor\\n- 🌿Jardín\\n\\n⛳Amenidades:\\n- 🌲Área Verde\\n- 🥩Asador\\n- 🛝Juegos Infantiles\\n- 📍Céntrico: Valle Sol, 43648 Tulancingo, Hgo.\\n\\n💰Información Hipotecaria & crediticia:\\n*$1,695,000 MXN*\\n1. Pago Promedio mensual: $17,731.23 MXN\\n2. Ingreso mayor a los $47,094.01 MXN mensuales comprobables por pareja\\n\\n💡 ¿Le interesa obtener más información de esta propiedad?\"\"\",\n",
    "        \"imagen\": r\"C:\\Users\\4to Creativo\\OneDrive\\Desktop\\WhatsAutoA\\Images\\arboledas.png\"\n",
    "    },\n",
    "    {\n",
    "        \"mensaje\": \"\"\"📢Le presento la Privada *★Olivo, Modelo Lugo★*\\n _Tulancingo, Hidalgo a 5 Minutos de Walmart_\\n\\n🎯INFORMACION GENERAL:\\n- 🟩Terreno: 119m²\\n- 🏡 Construcción: 152 m²\\n- 🛏️Habitaciones: 4 (Recámara principal con walk in closet)\\n- 🚽Baños: 3 + 1/2\\n- 🚗Estacionamiento: 2\\n- 📺 Sala\\n- 🪑Comedor\\n- 🌿Jardín\\n\\n⛳Amenidades:\\n- 🌲Área verde\\n- 🥩Asador\\n- 🛝Juegos Infantiles\\n- 📍Céntrico: Valle Sol, 43648 Tulancingo, Hgo.\\n\\n💰Información Hipotecaria & crediticia:\\nPrecio *$2,400,000 MXN*\\n1. Pago promedio mensual $24,317.26 MXN\\n2. Ingreso mayor a los $59,000.00 MXN mensuales comprobables por pareja\\n\\n💡¿Le interesa obtener más información de esta propiedad?\"\"\",\n",
    "        \"imagen\": r\"C:\\Users\\4to Creativo\\OneDrive\\Desktop\\WhatsAutoA\\Images\\olivo.png\"\n",
    "    }\n",
    "]"
   ]
  },
  {
   "cell_type": "markdown",
   "metadata": {},
   "source": [
    "### Asignación random"
   ]
  },
  {
   "cell_type": "code",
   "execution_count": 5,
   "metadata": {},
   "outputs": [],
   "source": [
    "# Asignar un mensaje aleatorio a cada número\n",
    "asignaciones = []\n",
    "random.seed(42)  # Para reproducibilidad\n",
    "\n",
    "for numero in numeros:\n",
    "    asignacion = random.choice(mensajes)\n",
    "    asignaciones.append({\n",
    "        \"Movil\": numero,\n",
    "        \"Mensaje\": asignacion[\"mensaje\"].replace(\"\\n\", \"\\n\"),\n",
    "        \"Imagen\": asignacion[\"imagen\"]\n",
    "    })\n",
    "\n",
    "# Convertir a DataFrame de pandas\n",
    "df = pd.DataFrame(asignaciones)\n",
    "df"
   ]
  },
  {
   "cell_type": "markdown",
   "metadata": {},
   "source": [
    "### Exportar"
   ]
  },
  {
   "cell_type": "code",
   "execution_count": 11,
   "metadata": {},
   "outputs": [],
   "source": [
    "# Exportar a un archivo Excel\n",
    "df.to_excel(\"asignaciones.xlsx\", index=False)"
   ]
  }
 ],
 "metadata": {
  "kernelspec": {
   "display_name": "base",
   "language": "python",
   "name": "python3"
  },
  "language_info": {
   "codemirror_mode": {
    "name": "ipython",
    "version": 3
   },
   "file_extension": ".py",
   "mimetype": "text/x-python",
   "name": "python",
   "nbconvert_exporter": "python",
   "pygments_lexer": "ipython3",
   "version": "3.9.13"
  }
 },
 "nbformat": 4,
 "nbformat_minor": 2
}
