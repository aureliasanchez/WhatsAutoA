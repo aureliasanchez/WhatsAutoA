{
 "cells": [
  {
   "cell_type": "markdown",
   "metadata": {},
   "source": [
    "# **ASIGNAR MENSAJES DE MANERA ALEATORIA**"
   ]
  },
  {
   "cell_type": "code",
   "execution_count": 1,
   "metadata": {},
   "outputs": [],
   "source": [
    "import pandas as pd\n",
    "import random"
   ]
  },
  {
   "cell_type": "markdown",
   "metadata": {},
   "source": [
    "## Y"
   ]
  },
  {
   "cell_type": "code",
   "execution_count": null,
   "metadata": {},
   "outputs": [],
   "source": [
    "# Datos proporcionados\n",
    "numeros = [\n",
    "\"7713332693\", \"7712941338\", \"7711303320\", \"7713437013\", \"7712797482\", \"7712056708\", \"7712315486\", \"7711899454\", \"7711416574\", \"7712409514\", \"7711259408\", \"7717092266\", \"7712041818\", \"7714142124\", \"7751503939\", \"7711894276\", \"7717147102\", \"7717022778\", \"7712202733\", \"7751199169\", \"7716994408\", \"7711492910\", \"7711943167\", \"7712168931\", \"5519902852\", \"7712790127\", \"7711949671\", \"7717091476\", \"7713631007\", \"7712086679\", \"7711318037\", \"7711299712\", \"7711105699\", \"7711883558\", \"7712403144\", \"7711048345\", \"7712203781\", \"7711071830\", \"7711908236\", \"2225645853\", \"7713021857\", \"5575293166\", \"7711637312\", \"7711854204\", \"7712017445\", \"7715686899\", \"5531855974\", \"5583699920\", \"7711511482\", \"7711430107\", \"7717958997\", \"7712606280\", \"7711925939\", \"7711757155\", \"7711279496\", \"7717291043\", \"7717150976\", \"5545760020\", \"7711120533\", \"7711541183\", \"7713199580\", \"5513012240\", \"7711000108\", \"7712748465\", \"7712037888\", \"7716837990\", \"7711472893\", \"7713966909\", \"7711423532\", \"7711610529\", \"5583357620\", \"7717480207\", \"7717763377\", \"7713700695\", \"7711524166\"\n",
    "\n",
    "]\n",
    "\n",
    "# Mensajes con rutas de imágenes\n",
    "mensajes = [\n",
    "    {\n",
    "        \"mensaje\": \"\"\"¿Te gustaría que te consintamos con un helado?  🍦\\n¡Ven a nuestra **INAUGURACIÓN** en Explanada Pachuca este 20 de junio a las 5:00pm!\\n Será una tarde increíblemente cool y llena de sabor. 😋🍨\\n¡Te esperamos!🎉\\n\"\"\",\n",
    "        \"imagen\": r\"C:\\Users\\Administrator\\Desktop\\WhatsAutoA\\Images\\explanada.png\"\n",
    "    }\n",
    "]"
   ]
  },
  {
   "cell_type": "code",
   "execution_count": null,
   "metadata": {},
   "outputs": [],
   "source": [
    "# Asignar un mensaje aleatorio a cada número\n",
    "asignaciones = []\n",
    "random.seed(42)  # Para reproducibilidad\n",
    "\n",
    "for numero in numeros:\n",
    "    asignacion = random.choice(mensajes)\n",
    "    asignaciones.append({\n",
    "        \"Movil\": numero,\n",
    "        \"Mensaje\": asignacion[\"mensaje\"].replace(\"\\n\", \"\\n\"),\n",
    "        \"Imagen\": asignacion[\"imagen\"]\n",
    "    })\n",
    "\n",
    "# Convertir a DataFrame de pandas\n",
    "df = pd.DataFrame(asignaciones)\n",
    "df"
   ]
  },
  {
   "cell_type": "markdown",
   "metadata": {},
   "source": [
    "### Exportar"
   ]
  },
  {
   "cell_type": "code",
   "execution_count": null,
   "metadata": {},
   "outputs": [],
   "source": [
    "# Exportar a un archivo Excel\n",
    "df.to_excel(\"inmob_Y.xlsx\", index=False)"
   ]
  },
  {
   "cell_type": "markdown",
   "metadata": {},
   "source": [
    "## A"
   ]
  },
  {
   "cell_type": "code",
   "execution_count": null,
   "metadata": {},
   "outputs": [],
   "source": [
    "# Datos proporcionados\n",
    "numeros = [\n",
    "\"7713332693\", \"7712941338\", \"7711303320\", \"7713437013\", \"7712797482\", \"7712056708\", \"7712315486\", \"7711899454\", \"7711416574\", \"7712409514\", \"7711259408\", \"7717092266\", \"7712041818\", \"7714142124\", \"7751503939\", \"7711894276\", \"7717147102\", \"7717022778\", \"7712202733\", \"7751199169\", \"7716994408\", \"7711492910\", \"7711943167\", \"7712168931\", \"5519902852\", \"7712790127\", \"7711949671\", \"7717091476\", \"7713631007\", \"7712086679\", \"7711318037\", \"7711299712\", \"7711105699\", \"7711883558\", \"7712403144\", \"7711048345\", \"7712203781\", \"7711071830\", \"7711908236\", \"2225645853\", \"7713021857\", \"5575293166\", \"7711637312\", \"7711854204\", \"7712017445\", \"7715686899\", \"5531855974\", \"5583699920\", \"7711511482\", \"7711430107\", \"7717958997\", \"7712606280\", \"7711925939\", \"7711757155\", \"7711279496\", \"7717291043\", \"7717150976\", \"5545760020\", \"7711120533\", \"7711541183\", \"7713199580\", \"5513012240\", \"7711000108\", \"7712748465\", \"7712037888\", \"7716837990\", \"7711472893\", \"7713966909\", \"7711423532\", \"7711610529\", \"5583357620\", \"7717480207\", \"7717763377\", \"7713700695\", \"7711524166\"\n",
    "\n",
    "]\n",
    "\n",
    "# Mensajes con rutas de imágenes\n",
    "mensajes = [\n",
    "    {\n",
    "        \"mensaje\": \"\"\"¿Te gustaría que te consintamos con un helado?  🍦\\n¡Ven a nuestra **INAUGURACIÓN** en Explanada Pachuca este 20 de junio a las 5:00pm!\\n Será una tarde increíblemente cool y llena de sabor. 😋🍨\\n¡Te esperamos!🎉\\n\"\"\",\n",
    "        \"imagen\": r\"C:\\Users\\Administrator\\Desktop\\WhatsAutoA\\Images\\explanada.png\"\n",
    "    }\n",
    "]"
   ]
  },
  {
   "cell_type": "code",
   "execution_count": 2,
   "metadata": {},
   "outputs": [
    {
     "ename": "NameError",
     "evalue": "name 'numeros' is not defined",
     "output_type": "error",
     "traceback": [
      "\u001b[1;31m---------------------------------------------------------------------------\u001b[0m",
      "\u001b[1;31mNameError\u001b[0m                                 Traceback (most recent call last)",
      "\u001b[1;32mc:\\Users\\Administrator\\Desktop\\WhatsAutoA\\Villanova\\rand_villanova_padre2.ipynb Cell 6\u001b[0m line \u001b[0;36m5\n\u001b[0;32m      <a href='vscode-notebook-cell:/c%3A/Users/Administrator/Desktop/WhatsAutoA/Villanova/rand_villanova_padre2.ipynb#W5sZmlsZQ%3D%3D?line=1'>2</a>\u001b[0m asignaciones \u001b[39m=\u001b[39m []\n\u001b[0;32m      <a href='vscode-notebook-cell:/c%3A/Users/Administrator/Desktop/WhatsAutoA/Villanova/rand_villanova_padre2.ipynb#W5sZmlsZQ%3D%3D?line=2'>3</a>\u001b[0m random\u001b[39m.\u001b[39mseed(\u001b[39m42\u001b[39m)  \u001b[39m# Para reproducibilidad\u001b[39;00m\n\u001b[1;32m----> <a href='vscode-notebook-cell:/c%3A/Users/Administrator/Desktop/WhatsAutoA/Villanova/rand_villanova_padre2.ipynb#W5sZmlsZQ%3D%3D?line=4'>5</a>\u001b[0m \u001b[39mfor\u001b[39;00m numero \u001b[39min\u001b[39;00m numeros:\n\u001b[0;32m      <a href='vscode-notebook-cell:/c%3A/Users/Administrator/Desktop/WhatsAutoA/Villanova/rand_villanova_padre2.ipynb#W5sZmlsZQ%3D%3D?line=5'>6</a>\u001b[0m     asignacion \u001b[39m=\u001b[39m random\u001b[39m.\u001b[39mchoice(mensajes)\n\u001b[0;32m      <a href='vscode-notebook-cell:/c%3A/Users/Administrator/Desktop/WhatsAutoA/Villanova/rand_villanova_padre2.ipynb#W5sZmlsZQ%3D%3D?line=6'>7</a>\u001b[0m     asignaciones\u001b[39m.\u001b[39mappend({\n\u001b[0;32m      <a href='vscode-notebook-cell:/c%3A/Users/Administrator/Desktop/WhatsAutoA/Villanova/rand_villanova_padre2.ipynb#W5sZmlsZQ%3D%3D?line=7'>8</a>\u001b[0m         \u001b[39m\"\u001b[39m\u001b[39mMovil\u001b[39m\u001b[39m\"\u001b[39m: numero,\n\u001b[0;32m      <a href='vscode-notebook-cell:/c%3A/Users/Administrator/Desktop/WhatsAutoA/Villanova/rand_villanova_padre2.ipynb#W5sZmlsZQ%3D%3D?line=8'>9</a>\u001b[0m         \u001b[39m\"\u001b[39m\u001b[39mMensaje\u001b[39m\u001b[39m\"\u001b[39m: asignacion[\u001b[39m\"\u001b[39m\u001b[39mmensaje\u001b[39m\u001b[39m\"\u001b[39m]\u001b[39m.\u001b[39mreplace(\u001b[39m\"\u001b[39m\u001b[39m\\n\u001b[39;00m\u001b[39m\"\u001b[39m, \u001b[39m\"\u001b[39m\u001b[39m\\n\u001b[39;00m\u001b[39m\"\u001b[39m),\n\u001b[0;32m     <a href='vscode-notebook-cell:/c%3A/Users/Administrator/Desktop/WhatsAutoA/Villanova/rand_villanova_padre2.ipynb#W5sZmlsZQ%3D%3D?line=9'>10</a>\u001b[0m         \u001b[39m\"\u001b[39m\u001b[39mImagen\u001b[39m\u001b[39m\"\u001b[39m: asignacion[\u001b[39m\"\u001b[39m\u001b[39mimagen\u001b[39m\u001b[39m\"\u001b[39m]\n\u001b[0;32m     <a href='vscode-notebook-cell:/c%3A/Users/Administrator/Desktop/WhatsAutoA/Villanova/rand_villanova_padre2.ipynb#W5sZmlsZQ%3D%3D?line=10'>11</a>\u001b[0m     })\n",
      "\u001b[1;31mNameError\u001b[0m: name 'numeros' is not defined"
     ]
    }
   ],
   "source": [
    "# Asignar un mensaje aleatorio a cada número\n",
    "asignaciones = []\n",
    "random.seed(42)  # Para reproducibilidad\n",
    "\n",
    "for numero in numeros:\n",
    "    asignacion = random.choice(mensajes)\n",
    "    asignaciones.append({\n",
    "        \"Movil\": numero,\n",
    "        \"Mensaje\": asignacion[\"mensaje\"].replace(\"\\n\", \"\\n\"),\n",
    "        \"Imagen\": asignacion[\"imagen\"]\n",
    "    })\n",
    "\n",
    "# Convertir a DataFrame de pandas\n",
    "df = pd.DataFrame(asignaciones)\n",
    "df"
   ]
  },
  {
   "cell_type": "markdown",
   "metadata": {},
   "source": [
    "### Exportar"
   ]
  },
  {
   "cell_type": "code",
   "execution_count": 12,
   "metadata": {},
   "outputs": [],
   "source": [
    "# Exportar a un archivo Excel\n",
    "df.to_excel(\"inmob_A.xlsx\", index=False)"
   ]
  },
  {
   "cell_type": "code",
   "execution_count": null,
   "metadata": {},
   "outputs": [],
   "source": []
  }
 ],
 "metadata": {
  "kernelspec": {
   "display_name": "base",
   "language": "python",
   "name": "python3"
  },
  "language_info": {
   "codemirror_mode": {
    "name": "ipython",
    "version": 3
   },
   "file_extension": ".py",
   "mimetype": "text/x-python",
   "name": "python",
   "nbconvert_exporter": "python",
   "pygments_lexer": "ipython3",
   "version": "3.12.3"
  }
 },
 "nbformat": 4,
 "nbformat_minor": 2
}
