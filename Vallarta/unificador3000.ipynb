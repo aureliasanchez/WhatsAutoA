{
 "cells": [
  {
   "cell_type": "markdown",
   "metadata": {},
   "source": [
    "# **UNIFICADOR *3000***"
   ]
  },
  {
   "cell_type": "code",
   "execution_count": 1,
   "metadata": {},
   "outputs": [],
   "source": [
    "import pandas as pd"
   ]
  },
  {
   "cell_type": "markdown",
   "metadata": {},
   "source": [
    "## Y"
   ]
  },
  {
   "cell_type": "code",
   "execution_count": 2,
   "metadata": {},
   "outputs": [],
   "source": [
    "df_inm = pd.DataFrame(pd.read_csv(\"inmob_Y.csv\"))\n",
    "df_neg = pd.DataFrame(pd.read_csv(\"negocios_Y.csv\"))"
   ]
  },
  {
   "cell_type": "code",
   "execution_count": 3,
   "metadata": {},
   "outputs": [],
   "source": [
    "# Combinar los DataFrames\n",
    "df_combined = pd.concat([df_inm, df_neg], axis=0)  # Concatenar filas\n",
    "# Mezclar el DataFrame y resetear el índice\n",
    "df_combined = df_combined.sample(frac=1).reset_index(drop=True)"
   ]
  },
  {
   "cell_type": "code",
   "execution_count": 4,
   "metadata": {},
   "outputs": [
    {
     "data": {
      "text/html": [
       "<div>\n",
       "<style scoped>\n",
       "    .dataframe tbody tr th:only-of-type {\n",
       "        vertical-align: middle;\n",
       "    }\n",
       "\n",
       "    .dataframe tbody tr th {\n",
       "        vertical-align: top;\n",
       "    }\n",
       "\n",
       "    .dataframe thead th {\n",
       "        text-align: right;\n",
       "    }\n",
       "</style>\n",
       "<table border=\"1\" class=\"dataframe\">\n",
       "  <thead>\n",
       "    <tr style=\"text-align: right;\">\n",
       "      <th></th>\n",
       "      <th>Movil</th>\n",
       "      <th>Mensaje</th>\n",
       "      <th>Imagen</th>\n",
       "    </tr>\n",
       "  </thead>\n",
       "  <tbody>\n",
       "    <tr>\n",
       "      <th>0</th>\n",
       "      <td>4433400314</td>\n",
       "      <td>🚀 ¡No te pierdas el EXPO del SUMMIT TURÍSTICO ...</td>\n",
       "      <td>C:\\Users\\4to Creativo\\OneDrive\\Desktop\\WhatsAu...</td>\n",
       "    </tr>\n",
       "    <tr>\n",
       "      <th>1</th>\n",
       "      <td>3335974581</td>\n",
       "      <td>🚀 ¡No te pierdas el EXPO del SUMMIT TURÍSTICO ...</td>\n",
       "      <td>C:\\Users\\4to Creativo\\OneDrive\\Desktop\\WhatsAu...</td>\n",
       "    </tr>\n",
       "    <tr>\n",
       "      <th>2</th>\n",
       "      <td>3123195570</td>\n",
       "      <td>🎟️ ¡ENTRADA GRATIS! 🎟️\\n\\n🚀 ¡No te puedes perd...</td>\n",
       "      <td>C:\\Users\\4to Creativo\\OneDrive\\Desktop\\WhatsAu...</td>\n",
       "    </tr>\n",
       "    <tr>\n",
       "      <th>3</th>\n",
       "      <td>3122564434</td>\n",
       "      <td>🎟️ ¡ENTRADA GRATIS! 🎟️\\n\\n🚀 ¡No te puedes perd...</td>\n",
       "      <td>C:\\Users\\4to Creativo\\OneDrive\\Desktop\\WhatsAu...</td>\n",
       "    </tr>\n",
       "    <tr>\n",
       "      <th>4</th>\n",
       "      <td>3434270445</td>\n",
       "      <td>🚀 ¡No te pierdas el EXPO del SUMMIT TURÍSTICO ...</td>\n",
       "      <td>C:\\Users\\4to Creativo\\OneDrive\\Desktop\\WhatsAu...</td>\n",
       "    </tr>\n",
       "    <tr>\n",
       "      <th>...</th>\n",
       "      <td>...</td>\n",
       "      <td>...</td>\n",
       "      <td>...</td>\n",
       "    </tr>\n",
       "    <tr>\n",
       "      <th>145</th>\n",
       "      <td>311 106 7972</td>\n",
       "      <td>🚀 ¡No te pierdas el EXPO del SUMMIT TURÍSTICO ...</td>\n",
       "      <td>C:\\Users\\4to Creativo\\OneDrive\\Desktop\\WhatsAu...</td>\n",
       "    </tr>\n",
       "    <tr>\n",
       "      <th>146</th>\n",
       "      <td>3112463535</td>\n",
       "      <td>🎟️ ¡ENTRADA GRATIS! 🎟️\\n\\n🚀 ¡No te puedes perd...</td>\n",
       "      <td>C:\\Users\\4to Creativo\\OneDrive\\Desktop\\WhatsAu...</td>\n",
       "    </tr>\n",
       "    <tr>\n",
       "      <th>147</th>\n",
       "      <td>3338086928</td>\n",
       "      <td>🚀 ¡No te pierdas el EXPO del SUMMIT TURÍSTICO ...</td>\n",
       "      <td>C:\\Users\\4to Creativo\\OneDrive\\Desktop\\WhatsAu...</td>\n",
       "    </tr>\n",
       "    <tr>\n",
       "      <th>148</th>\n",
       "      <td>3891001887</td>\n",
       "      <td>🚀 ¡No te pierdas el EXPO del SUMMIT TURÍSTICO ...</td>\n",
       "      <td>C:\\Users\\4to Creativo\\OneDrive\\Desktop\\WhatsAu...</td>\n",
       "    </tr>\n",
       "    <tr>\n",
       "      <th>149</th>\n",
       "      <td>3931262752</td>\n",
       "      <td>🚀 ¡No te pierdas el EXPO del SUMMIT TURÍSTICO ...</td>\n",
       "      <td>C:\\Users\\4to Creativo\\OneDrive\\Desktop\\WhatsAu...</td>\n",
       "    </tr>\n",
       "  </tbody>\n",
       "</table>\n",
       "<p>150 rows × 3 columns</p>\n",
       "</div>"
      ],
      "text/plain": [
       "            Movil                                            Mensaje  \\\n",
       "0      4433400314  🚀 ¡No te pierdas el EXPO del SUMMIT TURÍSTICO ...   \n",
       "1      3335974581  🚀 ¡No te pierdas el EXPO del SUMMIT TURÍSTICO ...   \n",
       "2      3123195570  🎟️ ¡ENTRADA GRATIS! 🎟️\\n\\n🚀 ¡No te puedes perd...   \n",
       "3      3122564434  🎟️ ¡ENTRADA GRATIS! 🎟️\\n\\n🚀 ¡No te puedes perd...   \n",
       "4      3434270445  🚀 ¡No te pierdas el EXPO del SUMMIT TURÍSTICO ...   \n",
       "..            ...                                                ...   \n",
       "145  311 106 7972  🚀 ¡No te pierdas el EXPO del SUMMIT TURÍSTICO ...   \n",
       "146    3112463535  🎟️ ¡ENTRADA GRATIS! 🎟️\\n\\n🚀 ¡No te puedes perd...   \n",
       "147    3338086928  🚀 ¡No te pierdas el EXPO del SUMMIT TURÍSTICO ...   \n",
       "148    3891001887  🚀 ¡No te pierdas el EXPO del SUMMIT TURÍSTICO ...   \n",
       "149    3931262752  🚀 ¡No te pierdas el EXPO del SUMMIT TURÍSTICO ...   \n",
       "\n",
       "                                                Imagen  \n",
       "0    C:\\Users\\4to Creativo\\OneDrive\\Desktop\\WhatsAu...  \n",
       "1    C:\\Users\\4to Creativo\\OneDrive\\Desktop\\WhatsAu...  \n",
       "2    C:\\Users\\4to Creativo\\OneDrive\\Desktop\\WhatsAu...  \n",
       "3    C:\\Users\\4to Creativo\\OneDrive\\Desktop\\WhatsAu...  \n",
       "4    C:\\Users\\4to Creativo\\OneDrive\\Desktop\\WhatsAu...  \n",
       "..                                                 ...  \n",
       "145  C:\\Users\\4to Creativo\\OneDrive\\Desktop\\WhatsAu...  \n",
       "146  C:\\Users\\4to Creativo\\OneDrive\\Desktop\\WhatsAu...  \n",
       "147  C:\\Users\\4to Creativo\\OneDrive\\Desktop\\WhatsAu...  \n",
       "148  C:\\Users\\4to Creativo\\OneDrive\\Desktop\\WhatsAu...  \n",
       "149  C:\\Users\\4to Creativo\\OneDrive\\Desktop\\WhatsAu...  \n",
       "\n",
       "[150 rows x 3 columns]"
      ]
     },
     "execution_count": 4,
     "metadata": {},
     "output_type": "execute_result"
    }
   ],
   "source": [
    "df_combined"
   ]
  },
  {
   "cell_type": "code",
   "execution_count": 5,
   "metadata": {},
   "outputs": [],
   "source": [
    "# Guardar el DataFrame combinado y mezclado en un archivo Excel\n",
    "df_combined.to_excel('rondaY.xlsx', index=False)"
   ]
  },
  {
   "cell_type": "markdown",
   "metadata": {},
   "source": [
    "## A"
   ]
  },
  {
   "cell_type": "code",
   "execution_count": 6,
   "metadata": {},
   "outputs": [],
   "source": [
    "df_inm = pd.DataFrame(pd.read_csv(\"inmob_A.csv\"))\n",
    "df_neg = pd.DataFrame(pd.read_csv(\"negocios_A.csv\"))"
   ]
  },
  {
   "cell_type": "code",
   "execution_count": 7,
   "metadata": {},
   "outputs": [],
   "source": [
    "# Combinar los DataFrames\n",
    "df_combined = pd.concat([df_inm, df_neg], axis=0)  # Concatenar filas\n",
    "# Mezclar el DataFrame y resetear el índice\n",
    "df_combined = df_combined.sample(frac=1).reset_index(drop=True)"
   ]
  },
  {
   "cell_type": "code",
   "execution_count": 8,
   "metadata": {},
   "outputs": [],
   "source": [
    "# Guardar el DataFrame combinado y mezclado en un archivo Excel\n",
    "df_combined.to_excel('rondaA.xlsx', index=False)"
   ]
  },
  {
   "cell_type": "code",
   "execution_count": null,
   "metadata": {},
   "outputs": [],
   "source": []
  }
 ],
 "metadata": {
  "kernelspec": {
   "display_name": "Python 3",
   "language": "python",
   "name": "python3"
  },
  "language_info": {
   "codemirror_mode": {
    "name": "ipython",
    "version": 3
   },
   "file_extension": ".py",
   "mimetype": "text/x-python",
   "name": "python",
   "nbconvert_exporter": "python",
   "pygments_lexer": "ipython3",
   "version": "3.9.13"
  }
 },
 "nbformat": 4,
 "nbformat_minor": 2
}
