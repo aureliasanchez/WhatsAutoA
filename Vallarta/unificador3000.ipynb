{
 "cells": [
  {
   "cell_type": "markdown",
   "metadata": {},
   "source": [
    "# **UNIFICADOR *3000***"
   ]
  },
  {
   "cell_type": "code",
   "execution_count": null,
   "metadata": {},
   "outputs": [],
   "source": [
    "import pandas as pd"
   ]
  },
  {
   "cell_type": "markdown",
   "metadata": {},
   "source": [
    "## Y"
   ]
  },
  {
   "cell_type": "code",
   "execution_count": null,
   "metadata": {},
   "outputs": [],
   "source": [
    "df_inm = pd.DataFrame(pd.read_xml(\"inmob_Y.xlsx\"))\n",
    "df_neg = pd.DataFrame(pd.read_xml(\"negocios_Y.xlsx\"))"
   ]
  },
  {
   "cell_type": "code",
   "execution_count": null,
   "metadata": {},
   "outputs": [],
   "source": [
    "# Combinar los DataFrames\n",
    "df_combined = pd.concat([df_inm, df_neg], axis=0)  # Concatenar filas\n",
    "# Mezclar el DataFrame y resetear el índice\n",
    "df_combined = df_combined.sample(frac=1).reset_index(drop=True)"
   ]
  },
  {
   "cell_type": "code",
   "execution_count": null,
   "metadata": {},
   "outputs": [],
   "source": [
    "# Guardar el DataFrame combinado y mezclado en un archivo Excel\n",
    "df_combined.to_excel('rondaY.xlsx', index=False)"
   ]
  },
  {
   "cell_type": "markdown",
   "metadata": {},
   "source": [
    "## A"
   ]
  },
  {
   "cell_type": "code",
   "execution_count": null,
   "metadata": {},
   "outputs": [],
   "source": [
    "df_inm = pd.DataFrame(pd.read_xml(\"inmob_A.xlsx\"))\n",
    "df_neg = pd.DataFrame(pd.read_xml(\"negocios_A.xlsx\"))"
   ]
  },
  {
   "cell_type": "code",
   "execution_count": null,
   "metadata": {},
   "outputs": [],
   "source": [
    "# Combinar los DataFrames\n",
    "df_combined = pd.concat([df_inm, df_neg], axis=0)  # Concatenar filas\n",
    "# Mezclar el DataFrame y resetear el índice\n",
    "df_combined = df_combined.sample(frac=1).reset_index(drop=True)"
   ]
  },
  {
   "cell_type": "code",
   "execution_count": null,
   "metadata": {},
   "outputs": [],
   "source": [
    "# Guardar el DataFrame combinado y mezclado en un archivo Excel\n",
    "df_combined.to_excel('rondaA.xlsx', index=False)"
   ]
  }
 ],
 "metadata": {
  "kernelspec": {
   "display_name": "Python 3",
   "language": "python",
   "name": "python3"
  },
  "language_info": {
   "name": "python",
   "version": "3.12.3"
  }
 },
 "nbformat": 4,
 "nbformat_minor": 2
}
