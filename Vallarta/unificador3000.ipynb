{
 "cells": [
  {
   "cell_type": "markdown",
   "metadata": {},
   "source": [
    "# **UNIFICADOR *3000***"
   ]
  },
  {
   "cell_type": "code",
   "execution_count": 1,
   "metadata": {},
   "outputs": [],
   "source": [
    "import pandas as pd"
   ]
  },
  {
   "cell_type": "markdown",
   "metadata": {},
   "source": [
    "## Y"
   ]
  },
  {
   "cell_type": "code",
   "execution_count": 3,
   "metadata": {},
   "outputs": [],
   "source": [
    "df_inm = pd.DataFrame(pd.read_csv(\"inmob_Y.csv\"))\n",
    "df_neg = pd.DataFrame(pd.read_csv(\"negocios_Y.csv\"))"
   ]
  },
  {
   "cell_type": "code",
   "execution_count": 4,
   "metadata": {},
   "outputs": [],
   "source": [
    "# Combinar los DataFrames\n",
    "df_combined = pd.concat([df_inm, df_neg], axis=0)  # Concatenar filas\n",
    "# Mezclar el DataFrame y resetear el índice\n",
    "df_combined = df_combined.sample(frac=1).reset_index(drop=True)"
   ]
  },
  {
   "cell_type": "code",
   "execution_count": 5,
   "metadata": {},
   "outputs": [
    {
     "data": {
      "text/html": [
       "<div>\n",
       "<style scoped>\n",
       "    .dataframe tbody tr th:only-of-type {\n",
       "        vertical-align: middle;\n",
       "    }\n",
       "\n",
       "    .dataframe tbody tr th {\n",
       "        vertical-align: top;\n",
       "    }\n",
       "\n",
       "    .dataframe thead th {\n",
       "        text-align: right;\n",
       "    }\n",
       "</style>\n",
       "<table border=\"1\" class=\"dataframe\">\n",
       "  <thead>\n",
       "    <tr style=\"text-align: right;\">\n",
       "      <th></th>\n",
       "      <th>Movil</th>\n",
       "      <th>Mensaje</th>\n",
       "      <th>Imagen</th>\n",
       "    </tr>\n",
       "  </thead>\n",
       "  <tbody>\n",
       "    <tr>\n",
       "      <th>0</th>\n",
       "      <td>3221926080</td>\n",
       "      <td>🎟️ ¡ENTRADA GRATIS! 🎟️\\n\\n🚀 ¡No te puedes perd...</td>\n",
       "      <td>C:\\Users\\4to Creativo\\OneDrive\\Desktop\\WhatsAu...</td>\n",
       "    </tr>\n",
       "    <tr>\n",
       "      <th>1</th>\n",
       "      <td>3221050120</td>\n",
       "      <td>🚀 ¡No te pierdas el EXPO del SUMMIT TURÍSTICO ...</td>\n",
       "      <td>C:\\Users\\4to Creativo\\OneDrive\\Desktop\\WhatsAu...</td>\n",
       "    </tr>\n",
       "    <tr>\n",
       "      <th>2</th>\n",
       "      <td>3221919730</td>\n",
       "      <td>🎟️ ¡ENTRADA GRATIS! 🎟️\\n\\n🚀 ¡No te puedes perd...</td>\n",
       "      <td>C:\\Users\\4to Creativo\\OneDrive\\Desktop\\WhatsAu...</td>\n",
       "    </tr>\n",
       "    <tr>\n",
       "      <th>3</th>\n",
       "      <td>3129438291</td>\n",
       "      <td>🚀 ¡No te pierdas el EXPO del SUMMIT TURÍSTICO ...</td>\n",
       "      <td>C:\\Users\\4to Creativo\\OneDrive\\Desktop\\WhatsAu...</td>\n",
       "    </tr>\n",
       "    <tr>\n",
       "      <th>4</th>\n",
       "      <td>3231076749</td>\n",
       "      <td>🎟️ ¡ENTRADA GRATIS! 🎟️\\n\\n🚀 ¡No te puedes perd...</td>\n",
       "      <td>C:\\Users\\4to Creativo\\OneDrive\\Desktop\\WhatsAu...</td>\n",
       "    </tr>\n",
       "    <tr>\n",
       "      <th>...</th>\n",
       "      <td>...</td>\n",
       "      <td>...</td>\n",
       "      <td>...</td>\n",
       "    </tr>\n",
       "    <tr>\n",
       "      <th>95</th>\n",
       "      <td>3221324529</td>\n",
       "      <td>🎟️ ¡ENTRADA GRATIS! 🎟️\\n\\n🚀 ¡No te puedes perd...</td>\n",
       "      <td>C:\\Users\\4to Creativo\\OneDrive\\Desktop\\WhatsAu...</td>\n",
       "    </tr>\n",
       "    <tr>\n",
       "      <th>96</th>\n",
       "      <td>3231014237</td>\n",
       "      <td>🎟️ ¡ENTRADA GRATIS! 🎟️\\n\\n🚀 ¡No te puedes perd...</td>\n",
       "      <td>C:\\Users\\4to Creativo\\OneDrive\\Desktop\\WhatsAu...</td>\n",
       "    </tr>\n",
       "    <tr>\n",
       "      <th>97</th>\n",
       "      <td>3123195598</td>\n",
       "      <td>🚀 ¡No te pierdas el EXPO del SUMMIT TURÍSTICO ...</td>\n",
       "      <td>C:\\Users\\4to Creativo\\OneDrive\\Desktop\\WhatsAu...</td>\n",
       "    </tr>\n",
       "    <tr>\n",
       "      <th>98</th>\n",
       "      <td>3121623683</td>\n",
       "      <td>🚀 ¡No te pierdas el EXPO del SUMMIT TURÍSTICO ...</td>\n",
       "      <td>C:\\Users\\4to Creativo\\OneDrive\\Desktop\\WhatsAu...</td>\n",
       "    </tr>\n",
       "    <tr>\n",
       "      <th>99</th>\n",
       "      <td>3231087742</td>\n",
       "      <td>🎟️ ¡ENTRADA GRATIS! 🎟️\\n\\n🚀 ¡No te puedes perd...</td>\n",
       "      <td>C:\\Users\\4to Creativo\\OneDrive\\Desktop\\WhatsAu...</td>\n",
       "    </tr>\n",
       "  </tbody>\n",
       "</table>\n",
       "<p>100 rows × 3 columns</p>\n",
       "</div>"
      ],
      "text/plain": [
       "         Movil                                            Mensaje  \\\n",
       "0   3221926080  🎟️ ¡ENTRADA GRATIS! 🎟️\\n\\n🚀 ¡No te puedes perd...   \n",
       "1   3221050120  🚀 ¡No te pierdas el EXPO del SUMMIT TURÍSTICO ...   \n",
       "2   3221919730  🎟️ ¡ENTRADA GRATIS! 🎟️\\n\\n🚀 ¡No te puedes perd...   \n",
       "3   3129438291  🚀 ¡No te pierdas el EXPO del SUMMIT TURÍSTICO ...   \n",
       "4   3231076749  🎟️ ¡ENTRADA GRATIS! 🎟️\\n\\n🚀 ¡No te puedes perd...   \n",
       "..         ...                                                ...   \n",
       "95  3221324529  🎟️ ¡ENTRADA GRATIS! 🎟️\\n\\n🚀 ¡No te puedes perd...   \n",
       "96  3231014237  🎟️ ¡ENTRADA GRATIS! 🎟️\\n\\n🚀 ¡No te puedes perd...   \n",
       "97  3123195598  🚀 ¡No te pierdas el EXPO del SUMMIT TURÍSTICO ...   \n",
       "98  3121623683  🚀 ¡No te pierdas el EXPO del SUMMIT TURÍSTICO ...   \n",
       "99  3231087742  🎟️ ¡ENTRADA GRATIS! 🎟️\\n\\n🚀 ¡No te puedes perd...   \n",
       "\n",
       "                                               Imagen  \n",
       "0   C:\\Users\\4to Creativo\\OneDrive\\Desktop\\WhatsAu...  \n",
       "1   C:\\Users\\4to Creativo\\OneDrive\\Desktop\\WhatsAu...  \n",
       "2   C:\\Users\\4to Creativo\\OneDrive\\Desktop\\WhatsAu...  \n",
       "3   C:\\Users\\4to Creativo\\OneDrive\\Desktop\\WhatsAu...  \n",
       "4   C:\\Users\\4to Creativo\\OneDrive\\Desktop\\WhatsAu...  \n",
       "..                                                ...  \n",
       "95  C:\\Users\\4to Creativo\\OneDrive\\Desktop\\WhatsAu...  \n",
       "96  C:\\Users\\4to Creativo\\OneDrive\\Desktop\\WhatsAu...  \n",
       "97  C:\\Users\\4to Creativo\\OneDrive\\Desktop\\WhatsAu...  \n",
       "98  C:\\Users\\4to Creativo\\OneDrive\\Desktop\\WhatsAu...  \n",
       "99  C:\\Users\\4to Creativo\\OneDrive\\Desktop\\WhatsAu...  \n",
       "\n",
       "[100 rows x 3 columns]"
      ]
     },
     "execution_count": 5,
     "metadata": {},
     "output_type": "execute_result"
    }
   ],
   "source": [
    "df_combined"
   ]
  },
  {
   "cell_type": "code",
   "execution_count": 6,
   "metadata": {},
   "outputs": [],
   "source": [
    "# Guardar el DataFrame combinado y mezclado en un archivo Excel\n",
    "df_combined.to_excel('rondaY.xlsx', index=False)"
   ]
  },
  {
   "cell_type": "markdown",
   "metadata": {},
   "source": [
    "## A"
   ]
  },
  {
   "cell_type": "code",
   "execution_count": 7,
   "metadata": {},
   "outputs": [],
   "source": [
    "df_inm = pd.DataFrame(pd.read_csv(\"inmob_A.csv\"))\n",
    "df_neg = pd.DataFrame(pd.read_csv(\"negocios_A.csv\"))"
   ]
  },
  {
   "cell_type": "code",
   "execution_count": 8,
   "metadata": {},
   "outputs": [],
   "source": [
    "# Combinar los DataFrames\n",
    "df_combined = pd.concat([df_inm, df_neg], axis=0)  # Concatenar filas\n",
    "# Mezclar el DataFrame y resetear el índice\n",
    "df_combined = df_combined.sample(frac=1).reset_index(drop=True)"
   ]
  },
  {
   "cell_type": "code",
   "execution_count": 9,
   "metadata": {},
   "outputs": [],
   "source": [
    "# Guardar el DataFrame combinado y mezclado en un archivo Excel\n",
    "df_combined.to_excel('rondaA.xlsx', index=False)"
   ]
  }
 ],
 "metadata": {
  "kernelspec": {
   "display_name": "Python 3",
   "language": "python",
   "name": "python3"
  },
  "language_info": {
   "codemirror_mode": {
    "name": "ipython",
    "version": 3
   },
   "file_extension": ".py",
   "mimetype": "text/x-python",
   "name": "python",
   "nbconvert_exporter": "python",
   "pygments_lexer": "ipython3",
   "version": "3.9.13"
  }
 },
 "nbformat": 4,
 "nbformat_minor": 2
}
