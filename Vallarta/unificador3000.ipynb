{
 "cells": [
  {
   "cell_type": "markdown",
   "metadata": {},
   "source": [
    "# **UNIFICADOR *3000***"
   ]
  },
  {
   "cell_type": "code",
   "execution_count": 1,
   "metadata": {},
   "outputs": [],
   "source": [
    "import pandas as pd"
   ]
  },
  {
   "cell_type": "markdown",
   "metadata": {},
   "source": [
    "## Y"
   ]
  },
  {
   "cell_type": "code",
   "execution_count": 2,
   "metadata": {},
   "outputs": [],
   "source": [
    "df_inm = pd.DataFrame(pd.read_csv(\"inmob_Y.csv\"))\n",
    "df_neg = pd.DataFrame(pd.read_csv(\"negocios_Y.csv\"))"
   ]
  },
  {
   "cell_type": "code",
   "execution_count": 3,
   "metadata": {},
   "outputs": [],
   "source": [
    "# Combinar los DataFrames\n",
    "df_combined = pd.concat([df_inm, df_neg], axis=0)  # Concatenar filas\n",
    "# Mezclar el DataFrame y resetear el índice\n",
    "df_combined = df_combined.sample(frac=1).reset_index(drop=True)"
   ]
  },
  {
   "cell_type": "code",
   "execution_count": 4,
   "metadata": {},
   "outputs": [
    {
     "data": {
      "text/html": [
       "<div>\n",
       "<style scoped>\n",
       "    .dataframe tbody tr th:only-of-type {\n",
       "        vertical-align: middle;\n",
       "    }\n",
       "\n",
       "    .dataframe tbody tr th {\n",
       "        vertical-align: top;\n",
       "    }\n",
       "\n",
       "    .dataframe thead th {\n",
       "        text-align: right;\n",
       "    }\n",
       "</style>\n",
       "<table border=\"1\" class=\"dataframe\">\n",
       "  <thead>\n",
       "    <tr style=\"text-align: right;\">\n",
       "      <th></th>\n",
       "      <th>Movil</th>\n",
       "      <th>Mensaje</th>\n",
       "      <th>Imagen</th>\n",
       "    </tr>\n",
       "  </thead>\n",
       "  <tbody>\n",
       "    <tr>\n",
       "      <th>0</th>\n",
       "      <td>4351032732</td>\n",
       "      <td>🎟️ ¡ENTRADA GRATIS! 🎟️\\n\\n🚀 ¡No te puedes perd...</td>\n",
       "      <td>C:\\Users\\4to Creativo\\OneDrive\\Desktop\\WhatsAu...</td>\n",
       "    </tr>\n",
       "    <tr>\n",
       "      <th>1</th>\n",
       "      <td>4432173921</td>\n",
       "      <td>🎟️ ¡ENTRADA GRATIS! 🎟️\\n\\n🚀 ¡No te puedes perd...</td>\n",
       "      <td>C:\\Users\\4to Creativo\\OneDrive\\Desktop\\WhatsAu...</td>\n",
       "    </tr>\n",
       "    <tr>\n",
       "      <th>2</th>\n",
       "      <td>4431796084</td>\n",
       "      <td>🎟️ ¡ENTRADA GRATIS! 🎟️\\n\\n🚀 ¡No te puedes perd...</td>\n",
       "      <td>C:\\Users\\4to Creativo\\OneDrive\\Desktop\\WhatsAu...</td>\n",
       "    </tr>\n",
       "    <tr>\n",
       "      <th>3</th>\n",
       "      <td>4431053088</td>\n",
       "      <td>🎟️ ¡ENTRADA GRATIS! 🎟️\\n\\n🚀 ¡No te puedes perd...</td>\n",
       "      <td>C:\\Users\\4to Creativo\\OneDrive\\Desktop\\WhatsAu...</td>\n",
       "    </tr>\n",
       "    <tr>\n",
       "      <th>4</th>\n",
       "      <td>4431716993</td>\n",
       "      <td>🎟️ ¡ENTRADA GRATIS! 🎟️\\n\\n🚀 ¡No te puedes perd...</td>\n",
       "      <td>C:\\Users\\4to Creativo\\OneDrive\\Desktop\\WhatsAu...</td>\n",
       "    </tr>\n",
       "    <tr>\n",
       "      <th>...</th>\n",
       "      <td>...</td>\n",
       "      <td>...</td>\n",
       "      <td>...</td>\n",
       "    </tr>\n",
       "    <tr>\n",
       "      <th>132</th>\n",
       "      <td>4431645258</td>\n",
       "      <td>🎟️ ¡ENTRADA GRATIS! 🎟️\\n\\n🚀 ¡No te puedes perd...</td>\n",
       "      <td>C:\\Users\\4to Creativo\\OneDrive\\Desktop\\WhatsAu...</td>\n",
       "    </tr>\n",
       "    <tr>\n",
       "      <th>133</th>\n",
       "      <td>4251033408</td>\n",
       "      <td>🎟️ ¡ENTRADA GRATIS! 🎟️\\n\\n🚀 ¡No te puedes perd...</td>\n",
       "      <td>C:\\Users\\4to Creativo\\OneDrive\\Desktop\\WhatsAu...</td>\n",
       "    </tr>\n",
       "    <tr>\n",
       "      <th>134</th>\n",
       "      <td>3541144831</td>\n",
       "      <td>🎟️ ¡ENTRADA GRATIS! 🎟️\\n\\n🚀 ¡No te puedes perd...</td>\n",
       "      <td>C:\\Users\\4to Creativo\\OneDrive\\Desktop\\WhatsAu...</td>\n",
       "    </tr>\n",
       "    <tr>\n",
       "      <th>135</th>\n",
       "      <td>4431600107</td>\n",
       "      <td>🎟️ ¡ENTRADA GRATIS! 🎟️\\n\\n🚀 ¡No te puedes perd...</td>\n",
       "      <td>C:\\Users\\4to Creativo\\OneDrive\\Desktop\\WhatsAu...</td>\n",
       "    </tr>\n",
       "    <tr>\n",
       "      <th>136</th>\n",
       "      <td>4431297730</td>\n",
       "      <td>🎟️ ¡ENTRADA GRATIS! 🎟️\\n\\n🚀 ¡No te puedes perd...</td>\n",
       "      <td>C:\\Users\\4to Creativo\\OneDrive\\Desktop\\WhatsAu...</td>\n",
       "    </tr>\n",
       "  </tbody>\n",
       "</table>\n",
       "<p>137 rows × 3 columns</p>\n",
       "</div>"
      ],
      "text/plain": [
       "          Movil                                            Mensaje  \\\n",
       "0    4351032732  🎟️ ¡ENTRADA GRATIS! 🎟️\\n\\n🚀 ¡No te puedes perd...   \n",
       "1    4432173921  🎟️ ¡ENTRADA GRATIS! 🎟️\\n\\n🚀 ¡No te puedes perd...   \n",
       "2    4431796084  🎟️ ¡ENTRADA GRATIS! 🎟️\\n\\n🚀 ¡No te puedes perd...   \n",
       "3    4431053088  🎟️ ¡ENTRADA GRATIS! 🎟️\\n\\n🚀 ¡No te puedes perd...   \n",
       "4    4431716993  🎟️ ¡ENTRADA GRATIS! 🎟️\\n\\n🚀 ¡No te puedes perd...   \n",
       "..          ...                                                ...   \n",
       "132  4431645258  🎟️ ¡ENTRADA GRATIS! 🎟️\\n\\n🚀 ¡No te puedes perd...   \n",
       "133  4251033408  🎟️ ¡ENTRADA GRATIS! 🎟️\\n\\n🚀 ¡No te puedes perd...   \n",
       "134  3541144831  🎟️ ¡ENTRADA GRATIS! 🎟️\\n\\n🚀 ¡No te puedes perd...   \n",
       "135  4431600107  🎟️ ¡ENTRADA GRATIS! 🎟️\\n\\n🚀 ¡No te puedes perd...   \n",
       "136  4431297730  🎟️ ¡ENTRADA GRATIS! 🎟️\\n\\n🚀 ¡No te puedes perd...   \n",
       "\n",
       "                                                Imagen  \n",
       "0    C:\\Users\\4to Creativo\\OneDrive\\Desktop\\WhatsAu...  \n",
       "1    C:\\Users\\4to Creativo\\OneDrive\\Desktop\\WhatsAu...  \n",
       "2    C:\\Users\\4to Creativo\\OneDrive\\Desktop\\WhatsAu...  \n",
       "3    C:\\Users\\4to Creativo\\OneDrive\\Desktop\\WhatsAu...  \n",
       "4    C:\\Users\\4to Creativo\\OneDrive\\Desktop\\WhatsAu...  \n",
       "..                                                 ...  \n",
       "132  C:\\Users\\4to Creativo\\OneDrive\\Desktop\\WhatsAu...  \n",
       "133  C:\\Users\\4to Creativo\\OneDrive\\Desktop\\WhatsAu...  \n",
       "134  C:\\Users\\4to Creativo\\OneDrive\\Desktop\\WhatsAu...  \n",
       "135  C:\\Users\\4to Creativo\\OneDrive\\Desktop\\WhatsAu...  \n",
       "136  C:\\Users\\4to Creativo\\OneDrive\\Desktop\\WhatsAu...  \n",
       "\n",
       "[137 rows x 3 columns]"
      ]
     },
     "execution_count": 4,
     "metadata": {},
     "output_type": "execute_result"
    }
   ],
   "source": [
    "df_combined"
   ]
  },
  {
   "cell_type": "code",
   "execution_count": 5,
   "metadata": {},
   "outputs": [],
   "source": [
    "# Guardar el DataFrame combinado y mezclado en un archivo Excel\n",
    "df_combined.to_excel('rondaY.xlsx', index=False)"
   ]
  },
  {
   "cell_type": "markdown",
   "metadata": {},
   "source": [
    "## A"
   ]
  },
  {
   "cell_type": "code",
   "execution_count": 6,
   "metadata": {},
   "outputs": [],
   "source": [
    "df_inm = pd.DataFrame(pd.read_csv(\"inmob_A.csv\"))\n",
    "df_neg = pd.DataFrame(pd.read_csv(\"negocios_A.csv\"))"
   ]
  },
  {
   "cell_type": "code",
   "execution_count": 7,
   "metadata": {},
   "outputs": [],
   "source": [
    "# Combinar los DataFrames\n",
    "df_combined = pd.concat([df_inm, df_neg], axis=0)  # Concatenar filas\n",
    "# Mezclar el DataFrame y resetear el índice\n",
    "df_combined = df_combined.sample(frac=1).reset_index(drop=True)"
   ]
  },
  {
   "cell_type": "code",
   "execution_count": 8,
   "metadata": {},
   "outputs": [],
   "source": [
    "# Guardar el DataFrame combinado y mezclado en un archivo Excel\n",
    "df_combined.to_excel('rondaA.xlsx', index=False)"
   ]
  },
  {
   "cell_type": "code",
   "execution_count": null,
   "metadata": {},
   "outputs": [],
   "source": []
  }
 ],
 "metadata": {
  "kernelspec": {
   "display_name": "Python 3",
   "language": "python",
   "name": "python3"
  },
  "language_info": {
   "codemirror_mode": {
    "name": "ipython",
    "version": 3
   },
   "file_extension": ".py",
   "mimetype": "text/x-python",
   "name": "python",
   "nbconvert_exporter": "python",
   "pygments_lexer": "ipython3",
   "version": "3.12.3"
  }
 },
 "nbformat": 4,
 "nbformat_minor": 2
}
